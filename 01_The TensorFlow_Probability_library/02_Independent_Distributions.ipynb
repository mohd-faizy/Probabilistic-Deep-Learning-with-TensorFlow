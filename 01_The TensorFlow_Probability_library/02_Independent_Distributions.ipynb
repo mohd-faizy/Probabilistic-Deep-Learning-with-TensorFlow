{
 "cells": [
  {
   "cell_type": "markdown",
   "id": "af7d9277",
   "metadata": {},
   "source": [
    "# **Independent Distribution**"
   ]
  },
  {
   "cell_type": "markdown",
   "id": "44478f52",
   "metadata": {},
   "source": [
    "## 📑 Table of Contents\n",
    "\n",
    "- **1. [Foundation - What Is the Independent Distribution?](#foundation---what-is-the-independent-distribution)**\n",
    "    - 1.1 [The Big Picture](#the-big-picture)\n",
    "\n",
    "- **2. [Setup & The Fundamental Concept](#setup--the-fundamental-concept)**\n",
    "    - 2.1 [Essential Imports & Setup](#essential-imports--setup)  \n",
    "    - 2.2 [The Core Distinction: True Multivariate vs Batched Univariate](#the-core-distinction-true-multivariate-vs-batched-univariate)\n",
    "\n",
    "- **3. [The Independent Transformation](#the-independent-transformation)**\n",
    "    - 3.1 [Converting Batched to Multivariate with Independent](#converting-batched-to-multivariate-with-independent)  \n",
    "    - 3.2 [Log Probability: The Key Difference](#log-probability-the-key-difference)\n",
    "\n",
    "- **4. [Complex Batching Scenarios](#complex-batching-scenarios)**\n",
    "    - 4.1 [Higher-Dimensional Batching](#higher-dimensional-batching)  \n",
    "    - 4.2 [Different reinterpreted_batch_ndims Values](#different-reinterpreted_batch_ndims-values)\n",
    "\n",
    "- **5. [Advanced Applications](#advanced-applications)**\n",
    "    - 5.1 [Multi-Dimensional Independent Distributions](#multi-dimensional-independent-distributions)\n",
    "\n",
    "- **6. [Professional Patterns & Best Practices](#professional-patterns--best-practices)**\n",
    "    - 6.1 [When to Use Independent](#when-to-use-independent)  \n",
    "    - 6.2 [Loss Function Considerations](#loss-function-considerations)  \n",
    "    - 6.3 [Shape Debugging Utilities](#shape-debugging-utilities)\n",
    "\n",
    "- **7. [Expert Applications](#expert-applications)**\n",
    "    - 7.1 [Building Complex Probabilistic Architectures](#building-complex-probabilistic-architectures)  \n",
    "    - 7.2 [Custom Independent Implementations](#custom-independent-implementations)\n",
    "\n",
    "- **8. [Complete Reference Guide](#complete-reference-guide)**\n",
    "    - 8.1 [Independent Constructor Patterns](#independent-constructor-patterns)  \n",
    "    - 8.2 [Essential Independent Operations Reference](#essential-independent-operations-reference)\n",
    "\n",
    "- **[Final Notes](#-final-notes)**\n"
   ]
  },
  {
   "cell_type": "markdown",
   "id": "a760a387",
   "metadata": {},
   "source": [
    "## 1. **Foundation - What Is the Independent Distribution?**"
   ]
  },
  {
   "cell_type": "markdown",
   "id": "1a7a87ba",
   "metadata": {},
   "source": [
    "### 1.1 **The Big Picture**\n",
    "The Independent distribution is TensorFlow Probability's **meta-distribution** that transforms batch dimensions into event dimensions. It's the bridge between **batched univariate distributions** and **true multivariate distributions**.[1][2]\n",
    "\n",
    "**Key Insight**: Independent doesn't create a new probability model—it **reinterprets existing dimensions** to change how probabilities are computed. It converts independent random variables into a joint distribution where `log_prob` returns a single value instead of a vector.[1]\n",
    "\n",
    "**The Core Transformation**:\n",
    "- **Input**: `batch_shape=[k], event_shape=[]` (k independent univariate)\n",
    "- **Output**: `batch_shape=[], event_shape=[k]` (1 multivariate with k dimensions)"
   ]
  },
  {
   "cell_type": "markdown",
   "id": "adf39e32",
   "metadata": {},
   "source": [
    "## 2. **Setup & The Fundamental Concept**"
   ]
  },
  {
   "cell_type": "markdown",
   "id": "728ca91c",
   "metadata": {},
   "source": [
    "### 2.1 **Essential Imports & Setup**"
   ]
  },
  {
   "cell_type": "code",
   "execution_count": 40,
   "id": "359fba28",
   "metadata": {},
   "outputs": [],
   "source": [
    "# Importing TensorFlow Probability library \n",
    "import tensorflow as tf\n",
    "import tensorflow_probability as tfp\n",
    "import numpy as np\n",
    "\n",
    "# Standard alias for distributions\n",
    "tfd = tfp.distributions\n",
    "\n",
    "# Set random seed for reproducibility\n",
    "tf.random.set_seed(42)"
   ]
  },
  {
   "cell_type": "markdown",
   "id": "f620cd5f",
   "metadata": {},
   "source": [
    "### 2.2 **The Core Distinction: True Multivariate vs Batched Univariate**"
   ]
  },
  {
   "cell_type": "code",
   "execution_count": 41,
   "id": "9bc170f9",
   "metadata": {},
   "outputs": [
    {
     "name": "stdout",
     "output_type": "stream",
     "text": [
      "tfp.distributions.MultivariateNormalDiag(\"MultivariateNormalDiag\", batch_shape=[], event_shape=[2], dtype=float32)\n",
      "tfp.distributions.Normal(\"Normal\", batch_shape=[2], event_shape=[], dtype=float32)\n"
     ]
    },
    {
     "data": {
      "text/plain": [
       "'\\ntfp.distributions.Normal(\"Normal\",\\n                        batch_shape=[2],\\n                        event_shape=[],\\n                        dtype=float32\\n                        )\\n'"
      ]
     },
     "execution_count": 41,
     "metadata": {},
     "output_type": "execute_result"
    }
   ],
   "source": [
    "# TRUE MULTIVARIATE DISTRIBUTION\n",
    "mv_normal = tfd.MultivariateNormalDiag(loc=[-1., 0.5], scale_diag=[1., 1.5])\n",
    "print(mv_normal)\n",
    "\"\"\"\n",
    "tfp.distributions.MultivariateNormalDiag(\"MultivariateNormalDiag\",\n",
    "                                        batch_shape=[],\n",
    "                                        event_shape=[2],\n",
    "                                        dtype=float32\n",
    "                                        )\n",
    "\"\"\"\n",
    "\n",
    "# BATCHED UNIVARIATE DISTRIBUTION  \n",
    "batched_normal = tfd.Normal(loc=[-1., 0.5], scale=[1., 1.5])\n",
    "print(batched_normal)\n",
    "\"\"\"\n",
    "tfp.distributions.Normal(\"Normal\",\n",
    "                        batch_shape=[2],\n",
    "                        event_shape=[],\n",
    "                        dtype=float32\n",
    "                        )\n",
    "\"\"\""
   ]
  },
  {
   "cell_type": "markdown",
   "id": "c9be1940",
   "metadata": {},
   "source": [
    "**Critical Difference**:\n",
    "- **Multivariate**: `batch_shape=[], event_shape=` → Joint distribution over 2D vectors[2]\n",
    "- **Batched**: `batch_shape=, event_shape=[]` → Two independent 1D distributions[2]"
   ]
  },
  {
   "cell_type": "markdown",
   "id": "35867f4d",
   "metadata": {},
   "source": [
    "## 3. **The Independent Transformation**"
   ]
  },
  {
   "cell_type": "markdown",
   "id": "b06354f8",
   "metadata": {},
   "source": [
    "### 3.1 **Converting Batched to Multivariate with Independent**"
   ]
  },
  {
   "cell_type": "code",
   "execution_count": 42,
   "id": "dfa3053c",
   "metadata": {},
   "outputs": [
    {
     "name": "stdout",
     "output_type": "stream",
     "text": [
      "tfp.distributions.Independent(\"IndependentNormal\", batch_shape=[], event_shape=[2], dtype=float32)\n"
     ]
    }
   ],
   "source": [
    "# TRANSFORMING A BATCHED UNIVARIATE DISTRIBUTION TO A MULTIVARIATE DISTRIBUTION\n",
    "# Start with batched univariate distribution\n",
    "batched_normal = tfd.Normal(loc=[-1., 0.5], scale=[1., 1.5])\n",
    "\n",
    "# Transform using Independent\n",
    "independent_normal = tfd.Independent(batched_normal, reinterpreted_batch_ndims=1)\n",
    "print(independent_normal)"
   ]
  },
  {
   "cell_type": "markdown",
   "id": "ad69227b",
   "metadata": {},
   "source": [
    "**The Magic Parameter**: `reinterpreted_batch_ndims=1`\n",
    "- **Meaning**: Take 1 dimension from the right side of `batch_shape` and move it to `event_shape`\n",
    "- **Before**: `batch_shape=, event_shape=[]`[2]\n",
    "- **After**: `batch_shape=[], event_shape=`[2]"
   ]
  },
  {
   "cell_type": "markdown",
   "id": "a852eb1b",
   "metadata": {},
   "source": [
    "### 3.2 **Log Probability: The Key Difference**"
   ]
  },
  {
   "cell_type": "code",
   "execution_count": 43,
   "id": "ca8c5057",
   "metadata": {},
   "outputs": [
    {
     "name": "stdout",
     "output_type": "stream",
     "text": [
      "Batched log prob: tf.Tensor([-1.2389386 -1.699959 ], shape=(2,), dtype=float32)\n",
      "Shape: (2,)\n",
      "Independent log prob: tf.Tensor(-2.9388976, shape=(), dtype=float32)\n",
      "Shape: ()\n",
      "Sum of batched: tf.Tensor(-2.9388976, shape=(), dtype=float32)\n",
      "Independent value: tf.Tensor(-2.9388976, shape=(), dtype=float32)\n"
     ]
    }
   ],
   "source": [
    "# Log probability computation comparison\n",
    "batched_normal = tfd.Normal(loc=[-1., 0.5], scale=[1., 1.5])\n",
    "independent_normal = tfd.Independent(batched_normal, reinterpreted_batch_ndims=1)\n",
    "\n",
    "# Same input vector for both\n",
    "test_input = [-0.2, 1.8]\n",
    "\n",
    "# Batched: Returns array of independent log probabilities\n",
    "batch_log_prob = batched_normal.log_prob(test_input)\n",
    "print(\"Batched log prob:\", batch_log_prob)\n",
    "print(\"Shape:\", batch_log_prob.shape)  # (2,)\n",
    "# Output: [log P₁(-0.2), log P₂(1.8)] - separate probabilities\n",
    "\n",
    "# Independent: Returns single joint log probability  \n",
    "independent_log_prob = independent_normal.log_prob(test_input)\n",
    "print(\"Independent log prob:\", independent_log_prob)\n",
    "print(\"Shape:\", independent_log_prob.shape)  # ()\n",
    "# Output: log P₁(-0.2) + log P₂(1.8) - joint probability\n",
    "\n",
    "# Verification: Independent sums the batched log probabilities\n",
    "print(\"Sum of batched:\", tf.reduce_sum(batch_log_prob))\n",
    "print(\"Independent value:\", independent_log_prob)\n",
    "# These should be equal (within numerical precision)"
   ]
  },
  {
   "cell_type": "markdown",
   "id": "6d202552",
   "metadata": {},
   "source": [
    "**Mathematical Interpretation**:\n",
    "- **Batched**: `[log p₁(x₁), log p₂(x₂)]` → Vector of independent log probabilities\n",
    "- **Independent**: `log p₁(x₁) + log p₂(x₂)` → Single joint log probability"
   ]
  },
  {
   "cell_type": "markdown",
   "id": "2915ef3e",
   "metadata": {},
   "source": [
    "## 4. **Complex Batching Scenarios**"
   ]
  },
  {
   "cell_type": "markdown",
   "id": "8c5bcd89",
   "metadata": {},
   "source": [
    "### 4.1 **Higher-Dimensional Batching**"
   ]
  },
  {
   "cell_type": "code",
   "execution_count": 44,
   "id": "88b9d384",
   "metadata": {},
   "outputs": [
    {
     "name": "stdout",
     "output_type": "stream",
     "text": [
      "tfp.distributions.Normal(\"Normal\", batch_shape=[3, 2], event_shape=[], dtype=float32)\n",
      "tfp.distributions.Independent(\"IndependentNormal\", batch_shape=[3], event_shape=[2], dtype=float32)\n"
     ]
    }
   ],
   "source": [
    "# Create 3 batches of 2D distributions\n",
    "batched_normal = tfd.Normal(\n",
    "    loc=[[-1., 0.5], [0., 1.], [0.3, -0.1]],      # Shape: (3, 2)\n",
    "    scale=[[1., 1.5], [0.2, 0.8], [2., 1.]]       # Shape: (3, 2)\n",
    ")\n",
    "print(batched_normal)\n",
    "\n",
    "# Apply Independent with reinterpreted_batch_ndims=1\n",
    "independent_normal = tfd.Independent(batched_normal, reinterpreted_batch_ndims=1)\n",
    "print(independent_normal)\n"
   ]
  },
  {
   "cell_type": "markdown",
   "id": "ca78fd39",
   "metadata": {},
   "source": [
    "**Shape Transformation**:\n",
    "- **Original**: `batch_shape=[3, 2], event_shape=[]` → 6 independent scalars\n",
    "- **After Independent**: `batch_shape=, event_shape=` → 3 independent 2D vectors[3][2]"
   ]
  },
  {
   "cell_type": "markdown",
   "id": "0ac9c262",
   "metadata": {},
   "source": [
    "### 4.2 **Different reinterpreted_batch_ndims Values**"
   ]
  },
  {
   "cell_type": "code",
   "execution_count": 45,
   "id": "1755e64c",
   "metadata": {},
   "outputs": [
    {
     "name": "stdout",
     "output_type": "stream",
     "text": [
      "tfp.distributions.Independent(\"IndependentNormal\", batch_shape=[], event_shape=[3, 2], dtype=float32)\n"
     ]
    }
   ],
   "source": [
    "# Same starting distribution\n",
    "batched_normal = tfd.Normal(\n",
    "    loc=[[-1., 0.5], [0., 1.], [0.3, -0.1]],\n",
    "    scale=[[1., 1.5], [0.2, 0.8], [2., 1.]]\n",
    ")\n",
    "# Original: batch_shape=[3, 2], event_shape=[]\n",
    "\n",
    "# reinterpreted_batch_ndims=2 (reinterpret ALL batch dimensions)\n",
    "independent_normal_2 = tfd.Independent(batched_normal, reinterpreted_batch_ndims=2)\n",
    "print(independent_normal_2)\n",
    "# Output: batch_shape=[], event_shape=[3, 2]"
   ]
  },
  {
   "cell_type": "markdown",
   "id": "3a6078ba",
   "metadata": {},
   "source": [
    "**Complete Transformation**:\n",
    "- **Original**: `batch_shape=[3, 2], event_shape=[]` → 6 independent scalars\n",
    "- **After Independent**: `batch_shape=[], event_shape=[3, 2]` → 1 joint distribution over 3×2 matrix\n"
   ]
  },
  {
   "cell_type": "markdown",
   "id": "4d479667",
   "metadata": {},
   "source": [
    "## 5. **Advanced Applications**"
   ]
  },
  {
   "cell_type": "markdown",
   "id": "e196fc1d",
   "metadata": {},
   "source": [
    "### 5.1 **Multi-Dimensional Independent Distributions**"
   ]
  },
  {
   "cell_type": "code",
   "execution_count": 46,
   "id": "f8370636",
   "metadata": {},
   "outputs": [
    {
     "name": "stdout",
     "output_type": "stream",
     "text": [
      "Original Bernoulli batch:\n",
      "  batch_shape: (2, 4, 5)\n",
      "  event_shape: ()\n",
      "\n",
      "After Independent:\n",
      "  batch_shape: (2,)\n",
      "  event_shape: (4, 5)\n",
      "\n",
      "Log prob result shape: (2,)\n"
     ]
    }
   ],
   "source": [
    "import numpy as np\n",
    "import tensorflow as tf  # Missing import\n",
    "import tensorflow_probability as tfp\n",
    "tfd = tfp.distributions\n",
    "\n",
    "# Create a complex batch structure: (2, 4, 5) Bernoulli distributions\n",
    "probs = 0.5 * tf.ones((2, 4, 5))  # Shape: (2, 4, 5)\n",
    "bernoulli_batch = tfd.Bernoulli(probs=probs)\n",
    "print(\"Original Bernoulli batch:\")\n",
    "print(f\"  batch_shape: {bernoulli_batch.batch_shape}\")  # [2, 4, 5]\n",
    "print(f\"  event_shape: {bernoulli_batch.event_shape}\")  # []\n",
    "\n",
    "# Apply Independent with explicit reinterpreted_batch_ndims to fix deprecation warning\n",
    "dist = tfd.Independent(bernoulli_batch, reinterpreted_batch_ndims=2)\n",
    "print(\"\\nAfter Independent:\")\n",
    "print(f\"  batch_shape: {dist.batch_shape}\")  # [2]\n",
    "print(f\"  event_shape: {dist.event_shape}\")  # [4, 5]\n",
    "\n",
    "# Test log probability computation\n",
    "# Shape must match batch_shape + event_shape = (2,) + (4, 5) = (2, 4, 5)\n",
    "test_input = np.zeros((2, 4, 5), dtype=np.int32)  # Fixed shape\n",
    "result = dist.log_prob(test_input)\n",
    "print(f\"\\nLog prob result shape: {result.shape}\")  # (2,) - one value per remaining batch\n"
   ]
  },
  {
   "cell_type": "markdown",
   "id": "65843252",
   "metadata": {},
   "source": [
    "**Shape Analysis**:\n",
    "- **Input**: `probs.shape = (2, 4, 5)` → `batch_shape=[2, 4, 5], event_shape=[]`\n",
    "- **After Independent**: `batch_shape=[2, 4], event_shape=`[4]\n",
    "- **Interpretation**: 2×4 = 8 independent distributions, each over 5-dimensional binary vectors"
   ]
  },
  {
   "cell_type": "markdown",
   "id": "5f20fc3b",
   "metadata": {},
   "source": [
    "## 6. **Professional Patterns & Best Practices**"
   ]
  },
  {
   "cell_type": "markdown",
   "id": "2a30436b",
   "metadata": {},
   "source": [
    "### 6.1 **When to Use Independent**"
   ]
  },
  {
   "cell_type": "code",
   "execution_count": 47,
   "id": "04c7703d",
   "metadata": {},
   "outputs": [],
   "source": [
    "def create_probabilistic_layer_output(features, output_dim, use_independent=True):\n",
    "    \"\"\"\n",
    "    Create probabilistic neural network output\n",
    "    \"\"\"\n",
    "    # Neural network outputs raw parameters\n",
    "    loc = tf.keras.layers.Dense(output_dim)(features)\n",
    "    raw_scale = tf.keras.layers.Dense(output_dim)(features)\n",
    "    scale = tf.nn.softplus(raw_scale) + 1e-6\n",
    "    \n",
    "    # Create batched normal distribution\n",
    "    batched_dist = tfd.Normal(loc=loc, scale=scale)\n",
    "    \n",
    "    if use_independent:\n",
    "        # Convert to multivariate for joint log probability\n",
    "        return tfd.Independent(batched_dist, reinterpreted_batch_ndims=1)\n",
    "    else:\n",
    "        # Keep as independent scalars\n",
    "        return batched_dist\n",
    "\n",
    "# Example usage in model\n",
    "class ProbabilisticRegressor(tf.keras.Model):\n",
    "    def __init__(self, output_dim):\n",
    "        super().__init__()\n",
    "        self.dense1 = tf.keras.layers.Dense(64, activation='relu')\n",
    "        self.dense2 = tf.keras.layers.Dense(32, activation='relu')\n",
    "        self.output_dim = output_dim\n",
    "        \n",
    "    def call(self, inputs):\n",
    "        x = self.dense1(inputs)\n",
    "        x = self.dense2(x)\n",
    "        return create_probabilistic_layer_output(x, self.output_dim, use_independent=True)\n",
    "\n",
    "# Model outputs multivariate distribution for joint uncertainty\n",
    "model = ProbabilisticRegressor(output_dim=3)"
   ]
  },
  {
   "cell_type": "markdown",
   "id": "0e994a30",
   "metadata": {},
   "source": [
    "### 6.2 **Loss Function Considerations**"
   ]
  },
  {
   "cell_type": "code",
   "execution_count": 48,
   "id": "2e610b68",
   "metadata": {},
   "outputs": [
    {
     "name": "stdout",
     "output_type": "stream",
     "text": [
      "Losses are mathematically equivalent: tf.Tensor(True, shape=(), dtype=bool)\n"
     ]
    }
   ],
   "source": [
    "def independent_loss_comparison(y_true, batched_dist, independent_dist):\n",
    "    \"\"\"\n",
    "    Compare loss computation with and without Independent\n",
    "    \"\"\"\n",
    "    # Batched approach: Sum of individual losses\n",
    "    batched_losses = -batched_dist.log_prob(y_true)  # Shape: (batch_size, output_dim)\n",
    "    batched_total_loss = tf.reduce_sum(batched_losses, axis=-1)  # Shape: (batch_size,)\n",
    "    \n",
    "    # Independent approach: Joint loss directly\n",
    "    independent_loss = -independent_dist.log_prob(y_true)  # Shape: (batch_size,)\n",
    "    \n",
    "    return {\n",
    "        'batched_individual': batched_losses,\n",
    "        'batched_total': batched_total_loss,\n",
    "        'independent': independent_loss,\n",
    "        'are_equal': tf.reduce_all(tf.abs(batched_total_loss - independent_loss) < 1e-6)\n",
    "    }\n",
    "\n",
    "# Example with dummy data\n",
    "batch_size, output_dim = 32, 5\n",
    "y_true = tf.random.normal((batch_size, output_dim))\n",
    "loc = tf.random.normal((batch_size, output_dim))\n",
    "scale = tf.nn.softplus(tf.random.normal((batch_size, output_dim))) + 1e-6\n",
    "\n",
    "batched_dist = tfd.Normal(loc=loc, scale=scale)\n",
    "independent_dist = tfd.Independent(batched_dist, reinterpreted_batch_ndims=1)\n",
    "\n",
    "loss_comparison = independent_loss_comparison(y_true, batched_dist, independent_dist)\n",
    "print(\"Losses are mathematically equivalent:\", loss_comparison['are_equal'])"
   ]
  },
  {
   "cell_type": "markdown",
   "id": "3e3e168c",
   "metadata": {},
   "source": [
    "### 6.3 **Shape Debugging Utilities**"
   ]
  },
  {
   "cell_type": "code",
   "execution_count": 49,
   "id": "f5575704",
   "metadata": {},
   "outputs": [
    {
     "name": "stdout",
     "output_type": "stream",
     "text": [
      "=== INDEPENDENT TRANSFORMATION ANALYSIS ===\n",
      "Original distribution: tfp.distributions.Normal(\"Normal\", batch_shape=[2, 3, 4], event_shape=[], dtype=float32)\n",
      "  batch_shape: (2, 3, 4)\n",
      "  event_shape: ()\n",
      "\n",
      "Independent distribution: tfp.distributions.Independent(\"IndependentNormal\", batch_shape=[2], event_shape=[3, 4], dtype=float32)\n",
      "  batch_shape: (2,)\n",
      "  event_shape: (3, 4)\n",
      "  reinterpreted_batch_ndims: 2\n",
      "\n",
      "Sample shape (3 samples): (3, 2, 3, 4)\n",
      "Expected: (3,) + (2,) + (3, 4)\n"
     ]
    }
   ],
   "source": [
    "def analyze_independent_transformation(original_dist, reinterpreted_batch_ndims):\n",
    "    \"\"\"\n",
    "    Analyze the effect of Independent transformation on shapes\n",
    "    \"\"\"\n",
    "    independent_dist = tfd.Independent(original_dist, reinterpreted_batch_ndims)\n",
    "    \n",
    "    print(\"=== INDEPENDENT TRANSFORMATION ANALYSIS ===\")\n",
    "    print(f\"Original distribution: {original_dist}\")\n",
    "    print(f\"  batch_shape: {original_dist.batch_shape}\")\n",
    "    print(f\"  event_shape: {original_dist.event_shape}\")\n",
    "    print()\n",
    "    print(f\"Independent distribution: {independent_dist}\")\n",
    "    print(f\"  batch_shape: {independent_dist.batch_shape}\")\n",
    "    print(f\"  event_shape: {independent_dist.event_shape}\")\n",
    "    print(f\"  reinterpreted_batch_ndims: {reinterpreted_batch_ndims}\")\n",
    "    print()\n",
    "    \n",
    "    # Sample shape analysis\n",
    "    sample = independent_dist.sample(3)\n",
    "    print(f\"Sample shape (3 samples): {sample.shape}\")\n",
    "    print(f\"Expected: (3,) + {independent_dist.batch_shape} + {independent_dist.event_shape}\")\n",
    "    \n",
    "    return independent_dist\n",
    "\n",
    "# Example usage\n",
    "original = tfd.Normal(loc=tf.zeros((2, 3, 4)), scale=tf.ones((2, 3, 4)))\n",
    "transformed = analyze_independent_transformation(original, reinterpreted_batch_ndims=2)"
   ]
  },
  {
   "cell_type": "markdown",
   "id": "c103d4af",
   "metadata": {},
   "source": [
    "## 7. **Expert Applications**"
   ]
  },
  {
   "cell_type": "markdown",
   "id": "c7977fde",
   "metadata": {},
   "source": [
    "### 7.1 **Building Complex Probabilistic Architectures**"
   ]
  },
  {
   "cell_type": "code",
   "execution_count": 50,
   "id": "161e9044",
   "metadata": {},
   "outputs": [
    {
     "name": "stdout",
     "output_type": "stream",
     "text": [
      "Level 0: batch_shape=(32,), event_shape=(10,)\n",
      "Level 1: batch_shape=(32,), event_shape=(5,)\n",
      "Level 2: batch_shape=(32,), event_shape=(3,)\n"
     ]
    }
   ],
   "source": [
    "class HierarchicalProbabilisticModel(tf.keras.Model):\n",
    "    \"\"\"\n",
    "    Example: Hierarchical model using Independent at multiple levels\n",
    "    \"\"\"\n",
    "    def __init__(self, hierarchy_dims=[10, 5, 3]):\n",
    "        super().__init__()\n",
    "        self.hierarchy_dims = hierarchy_dims\n",
    "        self.model_layers = []  # Changed from self.layers to self.model_layers\n",
    "        \n",
    "        for i, dim in enumerate(hierarchy_dims):\n",
    "            self.model_layers.append(tf.keras.layers.Dense(64, activation='relu'))\n",
    "            self.model_layers.append(tf.keras.layers.Dense(dim * 2))  # loc + scale parameters\n",
    "    \n",
    "    def call(self, inputs):\n",
    "        x = inputs\n",
    "        distributions = []\n",
    "        \n",
    "        for i in range(0, len(self.model_layers), 2):  # Updated reference\n",
    "            # Feature transformation\n",
    "            x = self.model_layers[i](x)  # Updated reference\n",
    "            \n",
    "            # Distribution parameters\n",
    "            params = self.model_layers[i + 1](x)  # Updated reference\n",
    "            dim = self.hierarchy_dims[i // 2]\n",
    "            \n",
    "            # Split parameters\n",
    "            loc = params[..., :dim]\n",
    "            raw_scale = params[..., dim:]\n",
    "            scale = tf.nn.softplus(raw_scale) + 1e-6\n",
    "            \n",
    "            # Create batched then independent distribution\n",
    "            batched_dist = tfd.Normal(loc=loc, scale=scale)\n",
    "            independent_dist = tfd.Independent(batched_dist, reinterpreted_batch_ndims=1)\n",
    "            distributions.append(independent_dist)\n",
    "            \n",
    "            # Use samples as features for next level\n",
    "            x = independent_dist.sample()\n",
    "        \n",
    "        return distributions\n",
    "\n",
    "# Usage\n",
    "model = HierarchicalProbabilisticModel()\n",
    "input_data = tf.random.normal((32, 20))  # Batch of 32, 20 features\n",
    "hierarchy_distributions = model(input_data)\n",
    "\n",
    "for i, dist in enumerate(hierarchy_distributions):\n",
    "    print(f\"Level {i}: batch_shape={dist.batch_shape}, event_shape={dist.event_shape}\")"
   ]
  },
  {
   "cell_type": "markdown",
   "id": "d8a85c22",
   "metadata": {},
   "source": [
    "### 7.2 **Custom Independent Implementations**"
   ]
  },
  {
   "cell_type": "code",
   "execution_count": 51,
   "id": "4eb577d8",
   "metadata": {},
   "outputs": [],
   "source": [
    "class ConditionalIndependent:\n",
    "    \"\"\"\n",
    "    Custom Independent that can dynamically choose reinterpreted_batch_ndims\n",
    "    \"\"\"\n",
    "    def __init__(self, base_distribution_fn, max_reinterpreted_dims):\n",
    "        self.base_distribution_fn = base_distribution_fn\n",
    "        self.max_reinterpreted_dims = max_reinterpreted_dims\n",
    "    \n",
    "    def __call__(self, inputs, reinterpreted_dims=None):\n",
    "        base_dist = self.base_distribution_fn(inputs)\n",
    "        \n",
    "        if reinterpreted_dims is None:\n",
    "            # Auto-determine based on batch shape\n",
    "            reinterpreted_dims = min(len(base_dist.batch_shape), self.max_reinterpreted_dims)\n",
    "        \n",
    "        if reinterpreted_dims == 0:\n",
    "            return base_dist\n",
    "        else:\n",
    "            return tfd.Independent(base_dist, reinterpreted_batch_ndims=reinterpreted_dims)\n",
    "\n",
    "# Example usage\n",
    "def create_base_distribution(inputs):\n",
    "    # Creates varying batch shapes based on input\n",
    "    output_size = tf.shape(inputs)[-1]\n",
    "    loc = tf.keras.layers.Dense(output_size)(inputs)\n",
    "    scale = tf.nn.softplus(tf.keras.layers.Dense(output_size)(inputs)) + 1e-6\n",
    "    return tfd.Normal(loc=loc, scale=scale)\n",
    "\n",
    "conditional_independent = ConditionalIndependent(create_base_distribution, max_reinterpreted_dims=2)"
   ]
  },
  {
   "cell_type": "markdown",
   "id": "0d6f0cbc",
   "metadata": {},
   "source": [
    "## 8. **Complete Reference Guide**"
   ]
  },
  {
   "cell_type": "markdown",
   "id": "1481f560",
   "metadata": {},
   "source": [
    "### 8.1 **Independent Constructor Patterns**"
   ]
  },
  {
   "cell_type": "code",
   "execution_count": 52,
   "id": "b02a7ae5",
   "metadata": {},
   "outputs": [
    {
     "data": {
      "text/plain": [
       "<tfp.distributions.Independent 'IndependentexpNormal' batch_shape=[] event_shape=[5] dtype=float32>"
      ]
     },
     "execution_count": 52,
     "metadata": {},
     "output_type": "execute_result"
    }
   ],
   "source": [
    "# === BASIC INDEPENDENT USAGE ===\n",
    "# Convert 1D batch to multivariate\n",
    "tfd.Independent(tfd.Normal(loc=[0., 1.], scale=[1., 2.]), \n",
    "            reinterpreted_batch_ndims=1)\n",
    "\n",
    "# Convert 2D batch partially  \n",
    "tfd.Independent(tfd.Normal(loc=tf.zeros((3, 4)), scale=tf.ones((3, 4))), \n",
    "            reinterpreted_batch_ndims=1)  # → batch_shape=[3], event_shape=[4]\n",
    "\n",
    "# Convert all batch dimensions\n",
    "tfd.Independent(tfd.Bernoulli(probs=tf.ones((2, 3, 4)) * 0.5), \n",
    "            reinterpreted_batch_ndims=3)  # → batch_shape=[], event_shape=[2, 3, 4]\n",
    "\n",
    "# === ADVANCED PATTERNS ===\n",
    "# With multivariate base distributions\n",
    "mv_base = tfd.MultivariateNormalDiag(loc=[[0., 1.], [2., 3.]], scale_diag=[[1., 1.], [2., 2.]])\n",
    "tfd.Independent(mv_base, reinterpreted_batch_ndims=1)  # batch_shape=[], event_shape=[2, 2]\n",
    "\n",
    "# With transformed distributions\n",
    "transformed_base = tfd.TransformedDistribution(\n",
    "    tfd.Normal(loc=tf.zeros((5,)), scale=tf.ones((5,))),\n",
    "    bijector=tfp.bijectors.Exp()\n",
    ")\n",
    "tfd.Independent(transformed_base, reinterpreted_batch_ndims=1)  # Log-normal multivariate\n"
   ]
  },
  {
   "cell_type": "markdown",
   "id": "8d233ed4",
   "metadata": {},
   "source": [
    "### 8.2 **Essential Independent Operations Reference**"
   ]
  },
  {
   "cell_type": "markdown",
   "id": "7a923219",
   "metadata": {},
   "source": [
    "Since Independent creates distributions with diagonal covariance matrices by design (the components are independent), manually constructing the covariance matrix:"
   ]
  },
  {
   "cell_type": "code",
   "execution_count": 53,
   "id": "512783d5",
   "metadata": {},
   "outputs": [
    {
     "name": "stdout",
     "output_type": "stream",
     "text": [
      "Covariance matrix: tf.Tensor(\n",
      "[[1.   0.   0.  ]\n",
      " [0.   0.25 0.  ]\n",
      " [0.   0.   2.25]], shape=(3, 3), dtype=float32)\n"
     ]
    }
   ],
   "source": [
    "import tensorflow as tf\n",
    "import tensorflow_probability as tfp\n",
    "\n",
    "tfd = tfp.distributions\n",
    "\n",
    "# Your independent distribution\n",
    "base_dist = tfd.Normal([0.0, 1.0, 2.0], [1.0, 0.5, 1.5])\n",
    "independent_dist = tfd.Independent(base_dist, reinterpreted_batch_ndims=1)\n",
    "\n",
    "# Manual covariance matrix construction\n",
    "variances = independent_dist.variance()  # This works - gives diagonal elements\n",
    "cov_matrix = tf.linalg.diag(variances)   # Create diagonal covariance matrix\n",
    "\n",
    "print(\"Covariance matrix:\", cov_matrix)"
   ]
  },
  {
   "cell_type": "markdown",
   "id": "9cb84e0a",
   "metadata": {},
   "source": [
    "For a more direct approach with full covariance support, use `MultivariateNormalDiag`"
   ]
  },
  {
   "cell_type": "code",
   "execution_count": 54,
   "id": "ebfe0a63",
   "metadata": {},
   "outputs": [
    {
     "name": "stdout",
     "output_type": "stream",
     "text": [
      "Covariance matrix: tf.Tensor(\n",
      "[[1.   0.   0.  ]\n",
      " [0.   0.25 0.  ]\n",
      " [0.   0.   2.25]], shape=(3, 3), dtype=float32)\n"
     ]
    }
   ],
   "source": [
    "# Instead of Independent, use MultivariateNormalDiag\n",
    "mvn_diag = tfd.MultivariateNormalDiag(\n",
    "    loc=[0.0, 1.0, 2.0], \n",
    "    scale_diag=[1.0, 0.5, 1.5]\n",
    ")\n",
    "\n",
    "# This supports covariance() method\n",
    "cov_matrix = mvn_diag.covariance()\n",
    "mean_vector = mvn_diag.mean()\n",
    "var_vector = mvn_diag.variance()\n",
    "\n",
    "print(\"Covariance matrix:\", cov_matrix)"
   ]
  },
  {
   "cell_type": "markdown",
   "id": "729b4e54",
   "metadata": {},
   "source": [
    "If you need to stick with Independent, work around the limitation"
   ]
  },
  {
   "cell_type": "code",
   "execution_count": 55,
   "id": "687066a8",
   "metadata": {},
   "outputs": [
    {
     "name": "stdout",
     "output_type": "stream",
     "text": [
      "Are equal: tf.Tensor(True, shape=(), dtype=bool)\n"
     ]
    }
   ],
   "source": [
    "# Access variance from Independent (this works)\n",
    "variances = independent_dist.variance()\n",
    "\n",
    "# Create diagonal covariance manually\n",
    "cov_matrix = tf.eye(len(variances)) * variances\n",
    "\n",
    "# Alternative: reshape variance vector into diagonal matrix\n",
    "cov_matrix_alt = tf.linalg.diag(variances)\n",
    "\n",
    "print(\"Are equal:\", tf.reduce_all(tf.abs(cov_matrix - cov_matrix_alt) < 1e-6))"
   ]
  },
  {
   "cell_type": "markdown",
   "id": "1cd0d4c6",
   "metadata": {},
   "source": [
    "The Independent distribution wrapper focuses on reinterpreting dimensions rather than implementing all possible statistical operations. Many operations like `mean()`, `variance()`, and `log_prob()` are implemented, but `covariance()` is not."
   ]
  },
  {
   "cell_type": "markdown",
   "id": "096f0578",
   "metadata": {},
   "source": [
    "### **🧮 Shape Transformation Rules**\n",
    "\n",
    "| **reinterpreted_batch_ndims** | **Original batch_shape** | **Original event_shape** | **New batch_shape** | **New event_shape** |\n",
    "|------------------------------|--------------------------|---------------------------|---------------------|---------------------|\n",
    "| **0** | `[a, b, c]` | `[d]` | `[a, b, c]` | `[d]` |\n",
    "| **1** | `[a, b, c]` | `[d]` | `[a, b]` | `[c, d]` |\n",
    "| **2** | `[a, b, c]` | `[d]` | `[a]` | `[b, c, d]` |\n",
    "| **3** | `[a, b, c]` | `[d]` | `[]` | `[a, b, c, d]`|"
   ]
  },
  {
   "cell_type": "markdown",
   "id": "b8d47b97",
   "metadata": {},
   "source": [
    "## **Final Notes**"
   ]
  },
  {
   "cell_type": "markdown",
   "id": "f910f0cd",
   "metadata": {},
   "source": [
    "- **The Independent Mindset**: Independent is not about creating new probability models—it's about **reinterpreting how you compute probabilities**. It transforms \"multiple independent calculations\" into \"single joint calculations.\"\n",
    "\n",
    "- **When to Use Independent**:\n",
    "  - ✅ **Neural network outputs**: When you want joint loss over multiple predictions\n",
    "  - ✅ **Multivariate modeling**: When treating related variables as a single entity\n",
    "  - ✅ **Probabilistic layers**: When building end-to-end probabilistic models\n",
    "  - ❌ **Already multivariate**: Don't wrap MultivariateNormal with Independent\n",
    "  - ❌ **Need correlations**: Independent assumes independence—use true multivariate for correlations\n",
    "\n",
    "- **Shape is Everything**: The relationship `reinterpreted_batch_ndims` ≤ `len(batch_shape)` must hold. Independent moves dimensions from right side of batch_shape to left side of event_shape.\n",
    "\n",
    "- **Performance Insight**: Independent and manual reduction (`tf.reduce_sum(dist.log_prob(...), axis=...)`) are mathematically equivalent but Independent is cleaner and integrates better with TFP's ecosystem.\n",
    "\n",
    "- **Debug Strategy**: When Independent doesn't work as expected, always print and compare shapes before and after transformation. The math should be clear from the dimensions.\n",
    "\n",
    "> Independent distribution is the **Swiss Army knife** of TensorFlow Probability—it bridges the gap between batch processing and multivariate modeling, enabling clean and efficient probabilistic architectures! "
   ]
  }
 ],
 "metadata": {
  "kernelspec": {
   "display_name": "Probabilistic-Deep-Learning-with-TensorFlow",
   "language": "python",
   "name": "python3"
  },
  "language_info": {
   "codemirror_mode": {
    "name": "ipython",
    "version": 3
   },
   "file_extension": ".py",
   "mimetype": "text/x-python",
   "name": "python",
   "nbconvert_exporter": "python",
   "pygments_lexer": "ipython3",
   "version": "3.13.5"
  }
 },
 "nbformat": 4,
 "nbformat_minor": 5
}
