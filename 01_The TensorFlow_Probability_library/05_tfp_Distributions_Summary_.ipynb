{
  "cells": [
    {
      "cell_type": "markdown",
      "metadata": {
        "id": "00uSMbgVsgme"
      },
      "source": [
        "# **Tensorflow Distributions Summary**"
      ]
    },
    {
      "cell_type": "markdown",
      "metadata": {
        "id": "E7htVM9psgme"
      },
      "source": [
        "## Table of Content\n",
        "\n",
        "\n",
        "- 1. [Univariate Distributions](#univariate_distributions)\n",
        "- 2. [Multivariate Distributions](#multivariate_distributions)\n",
        "- 3. [The Independent Distribution](#the_independent_distribution)\n",
        "- 4. [Sampling and log probs](#sampling_and_log_probs)\n",
        "- 5. [Trainable Distributions](#trainable_distributions)"
      ]
    },
    {
      "cell_type": "markdown",
      "metadata": {
        "id": "Jj29CUq6sgme"
      },
      "source": [
        "## 1. **Univariate distributions**"
      ]
    },
    {
      "cell_type": "code",
      "execution_count": 62,
      "metadata": {},
      "outputs": [
        {
          "name": "stdout",
          "output_type": "stream",
          "text": [
            "TF version: 2.20.0\n",
            "TFP version: 0.25.0\n"
          ]
        }
      ],
      "source": [
        "import numpy as np\n",
        "import matplotlib.pyplot as plt\n",
        "\n",
        "import tensorflow as tf\n",
        "import tensorflow_probability as tfp\n",
        "\n",
        "\n",
        "print(\"TF version:\", tf.__version__)\n",
        "print(\"TFP version:\", tfp.__version__)\n",
        "\n",
        "tfd = tfp.distributions\n",
        "tf.random.set_seed(42)"
      ]
    },
    {
      "cell_type": "code",
      "execution_count": 63,
      "metadata": {
        "id": "JoHMzrrDsgmf"
      },
      "outputs": [],
      "source": [
        "# Create a normal distribution from Tensorflow Distributions\n",
        "\n",
        "normal = tfd.Normal(loc=0, scale=1)"
      ]
    },
    {
      "cell_type": "code",
      "execution_count": 64,
      "metadata": {
        "colab": {
          "base_uri": "https://localhost:8080/"
        },
        "id": "XPCtjb2bsgmi",
        "outputId": "640a812c-20d7-4e04-c7e6-8ff16b556e52"
      },
      "outputs": [
        {
          "data": {
            "text/plain": [
              "<tf.Tensor: shape=(), dtype=float32, numpy=0.32746851444244385>"
            ]
          },
          "execution_count": 64,
          "metadata": {},
          "output_type": "execute_result"
        }
      ],
      "source": [
        "# Sample from the chosen distribution...\n",
        "\n",
        "normal.sample()"
      ]
    },
    {
      "cell_type": "code",
      "execution_count": 65,
      "metadata": {
        "colab": {
          "base_uri": "https://localhost:8080/"
        },
        "id": "LE4LZS7rsgmk",
        "outputId": "836ad424-99ac-4658-d1a3-43bf434abe5c"
      },
      "outputs": [
        {
          "data": {
            "text/plain": [
              "<tf.Tensor: shape=(10,), dtype=float32, numpy=\n",
              "array([ 8.4224582e-02, -8.6090374e-01,  3.7812304e-01, -5.1962738e-03,\n",
              "       -4.9453196e-01,  6.1781919e-01, -3.3082047e-01, -1.3840806e-03,\n",
              "       -4.2373410e-01, -1.3872087e+00], dtype=float32)>"
            ]
          },
          "execution_count": 65,
          "metadata": {},
          "output_type": "execute_result"
        }
      ],
      "source": [
        "# Sample multiple times\n",
        "\n",
        "normal.sample(10)"
      ]
    },
    {
      "cell_type": "code",
      "execution_count": 66,
      "metadata": {
        "colab": {
          "base_uri": "https://localhost:8080/"
        },
        "id": "Gc_PQ10Tsgmm",
        "outputId": "f9268c57-f501-46e4-f6a7-ac2958a3cf87"
      },
      "outputs": [
        {
          "data": {
            "text/plain": [
              "<tf.Tensor: shape=(), dtype=float32, numpy=0.3989422917366028>"
            ]
          },
          "execution_count": 66,
          "metadata": {},
          "output_type": "execute_result"
        }
      ],
      "source": [
        "# Obtain value of probability's density\n",
        "normal.prob(0)"
      ]
    },
    {
      "cell_type": "code",
      "execution_count": 67,
      "metadata": {
        "colab": {
          "base_uri": "https://localhost:8080/"
        },
        "id": "vMbFWoMwsgmn",
        "outputId": "7dd910de-c601-4f3b-aba2-c2a0560d6da1"
      },
      "outputs": [
        {
          "data": {
            "text/plain": [
              "<tf.Tensor: shape=(), dtype=float32, numpy=-0.9189385175704956>"
            ]
          },
          "execution_count": 67,
          "metadata": {},
          "output_type": "execute_result"
        }
      ],
      "source": [
        "# Obtain value of logprobability\n",
        "normal.log_prob(0)"
      ]
    },
    {
      "cell_type": "code",
      "execution_count": 68,
      "metadata": {
        "colab": {
          "base_uri": "https://localhost:8080/"
        },
        "id": "e6TkQQqvsgmp",
        "outputId": "00ad355a-a159-4dd0-ebda-9707c99dab4d"
      },
      "outputs": [
        {
          "data": {
            "text/plain": [
              "np.float32(-0.9189385)"
            ]
          },
          "execution_count": 68,
          "metadata": {},
          "output_type": "execute_result"
        }
      ],
      "source": [
        "# Verify that this really is the log of the probability\n",
        "np.log(normal.prob(0))"
      ]
    },
    {
      "cell_type": "code",
      "execution_count": 69,
      "metadata": {
        "colab": {
          "base_uri": "https://localhost:8080/",
          "height": 0
        },
        "id": "rk3lYT3jsgmr",
        "outputId": "3ef8dcb1-d0e0-4129-f564-2455424227ea"
      },
      "outputs": [
        {
          "data": {
            "image/png": "[encoded data removed]",
            "text/plain": [
              "<Figure size 800x550 with 1 Axes>"
            ]
          },
          "metadata": {},
          "output_type": "display_data"
        }
      ],
      "source": [
        "# Plot a histogram, approximating the density\n",
        "\n",
        "plt.hist(normal.sample(10000), bins=50, density=True)\n",
        "plt.show()"
      ]
    },
    {
      "cell_type": "code",
      "execution_count": 70,
      "metadata": {
        "colab": {
          "base_uri": "https://localhost:8080/",
          "height": 0
        },
        "id": "IUyiPOwVsgms",
        "outputId": "4b0f9c36-7510-41c4-fc5e-f23cf1318951"
      },
      "outputs": [
        {
          "data": {
            "image/png": "[encoded data removed]",
            "text/plain": [
              "<Figure size 800x550 with 1 Axes>"
            ]
          },
          "metadata": {},
          "output_type": "display_data"
        }
      ],
      "source": [
        "# Exponential distribution\n",
        "exponential = tfd.Exponential(rate=1)\n",
        "\n",
        "plt.hist(exponential.sample(10000), bins=50, density=True)\n",
        "plt.show()"
      ]
    },
    {
      "cell_type": "code",
      "execution_count": 71,
      "metadata": {
        "colab": {
          "base_uri": "https://localhost:8080/"
        },
        "id": "zAxCh7ynsgmu",
        "outputId": "39dfff6b-2830-4687-a6f1-3696c0d0f3dc"
      },
      "outputs": [
        {
          "data": {
            "text/plain": [
              "<tf.Tensor: shape=(10,), dtype=float32, numpy=\n",
              "array([1.1631554 , 0.7399262 , 0.90844756, 0.29854068, 0.32811037,\n",
              "       3.716206  , 0.4915939 , 1.2828436 , 2.0139854 , 1.2868103 ],\n",
              "      dtype=float32)>"
            ]
          },
          "execution_count": 71,
          "metadata": {},
          "output_type": "execute_result"
        }
      ],
      "source": [
        "# Sample as before\n",
        "\n",
        "exponential.sample(10)"
      ]
    },
    {
      "cell_type": "code",
      "execution_count": 72,
      "metadata": {
        "colab": {
          "base_uri": "https://localhost:8080/"
        },
        "id": "D-yhrZAqsgmw",
        "outputId": "ae1b8c70-b634-4456-ca5f-07c9dca1a481"
      },
      "outputs": [
        {
          "data": {
            "text/plain": [
              "<tf.Tensor: shape=(20,), dtype=int32, numpy=\n",
              "array([1, 0, 0, 1, 1, 1, 1, 1, 1, 1, 1, 0, 1, 1, 1, 0, 1, 1, 1, 0],\n",
              "      dtype=int32)>"
            ]
          },
          "execution_count": 72,
          "metadata": {},
          "output_type": "execute_result"
        }
      ],
      "source": [
        "# Create a Bernoulli distribution (discrete)\n",
        "\n",
        "bernoulli = tfd.Bernoulli(probs=0.8)\n",
        "bernoulli.sample(20)"
      ]
    },
    {
      "cell_type": "markdown",
      "metadata": {
        "id": "o4YMGd7dsgmy"
      },
      "source": [
        "### 1.1 A word of caution on discrete distributions"
      ]
    },
    {
      "cell_type": "code",
      "execution_count": 73,
      "metadata": {
        "colab": {
          "base_uri": "https://localhost:8080/"
        },
        "id": "_qhEUig2sgmy",
        "outputId": "a4ebc21b-fab5-47f4-f075-59f6bb415cdc"
      },
      "outputs": [
        {
          "name": "stdout",
          "output_type": "stream",
          "text": [
            "prob result 0.19999998807907104 for k = 0 \n",
            "prob result 0.3999999761581421 for k = 0.5 \n",
            "prob result 0.800000011920929 for k = 1 \n",
            "prob result 0.04999999701976776 for k = -1 \n"
          ]
        }
      ],
      "source": [
        "# Calculate Bernoulli prob and see that 0.5 and -1 do not give the correct probability!\n",
        "\n",
        "for k in [0,0.5,1,-1]:\n",
        "    print('prob result {} for k = {} '.format(bernoulli.prob(k), k))"
      ]
    },
    {
      "cell_type": "code",
      "execution_count": 74,
      "metadata": {
        "id": "3i_ifyZLsgmz"
      },
      "outputs": [],
      "source": [
        "# Replicate the scores to see what is occurring under the hood\n",
        "\n",
        "def my_bernoulli(p_sucess, k):\n",
        "    return np.power(p_sucess,k)*np.power((1-p_sucess),(1-k))"
      ]
    },
    {
      "cell_type": "code",
      "execution_count": 75,
      "metadata": {
        "colab": {
          "base_uri": "https://localhost:8080/"
        },
        "id": "YjDZmhp1sgm0",
        "outputId": "98c3259a-0341-4b59-fe1c-f82baabdef07"
      },
      "outputs": [
        {
          "name": "stdout",
          "output_type": "stream",
          "text": [
            "prob result 0.19999999999999996 for k = 0 \n",
            "prob result 0.3999999999999999 for k = 0.5 \n",
            "prob result 0.8 for k = 1 \n",
            "prob result 0.049999999999999975 for k = -1 \n"
          ]
        }
      ],
      "source": [
        "# Evaluate it as before\n",
        "\n",
        "for k in [0,0.5,1,-1]:\n",
        "    print('prob result {} for k = {} '.format(my_bernoulli(p_sucess=0.8, k=k), k))"
      ]
    },
    {
      "cell_type": "markdown",
      "metadata": {
        "id": "Jn2Cg3YEsgm2"
      },
      "source": [
        "### 1.2 Work with batch distributions"
      ]
    },
    {
      "cell_type": "code",
      "execution_count": 76,
      "metadata": {
        "colab": {
          "base_uri": "https://localhost:8080/"
        },
        "id": "FhtSN4-Esgm2",
        "outputId": "bb83dcb5-3c9d-49d7-bb1a-e87710215686"
      },
      "outputs": [
        {
          "data": {
            "text/plain": [
              "<tfp.distributions.Bernoulli 'Bernoulli' batch_shape=[5] event_shape=[] dtype=int32>"
            ]
          },
          "execution_count": 76,
          "metadata": {},
          "output_type": "execute_result"
        }
      ],
      "source": [
        "# Create a batched Bernoulli distribution\n",
        "\n",
        "bernoulli_batch = tfd.Bernoulli(probs=[0.1, 0.25, 0.5, 0.75, 0.9])\n",
        "bernoulli_batch"
      ]
    },
    {
      "cell_type": "code",
      "execution_count": 77,
      "metadata": {
        "colab": {
          "base_uri": "https://localhost:8080/"
        },
        "id": "i1amOMwzsgm4",
        "outputId": "94dd91e2-ddbc-4752-9f05-1f5f9d59beb7"
      },
      "outputs": [
        {
          "data": {
            "text/plain": [
              "<tf.Tensor: shape=(5, 5), dtype=int32, numpy=\n",
              "array([[1, 0, 1, 1, 1],\n",
              "       [0, 0, 0, 1, 1],\n",
              "       [0, 1, 1, 1, 1],\n",
              "       [0, 0, 0, 1, 1],\n",
              "       [0, 0, 1, 1, 1]], dtype=int32)>"
            ]
          },
          "execution_count": 77,
          "metadata": {},
          "output_type": "execute_result"
        }
      ],
      "source": [
        "# Sample from it, noting the shape\n",
        "\n",
        "bernoulli_batch.sample(5)"
      ]
    },
    {
      "cell_type": "code",
      "execution_count": 78,
      "metadata": {
        "colab": {
          "base_uri": "https://localhost:8080/"
        },
        "id": "BrcfsPL0sgm6",
        "outputId": "dfd7996a-6e55-42cd-af11-1c5b9e538d9d"
      },
      "outputs": [
        {
          "data": {
            "text/plain": [
              "<tfp.distributions.Bernoulli 'Bernoulli' batch_shape=[1, 3, 2] event_shape=[] dtype=int32>"
            ]
          },
          "execution_count": 78,
          "metadata": {},
          "output_type": "execute_result"
        }
      ],
      "source": [
        "# Use a batch shape with higher rank\n",
        "\n",
        "probs = [[[0.5, 0.5], \n",
        "          [0.8, 0.3], \n",
        "          [0.25, 0.75]]]\n",
        "bernoulli_batch_2D = tfd.Bernoulli(probs=probs)\n",
        "bernoulli_batch_2D"
      ]
    },
    {
      "cell_type": "code",
      "execution_count": 79,
      "metadata": {
        "colab": {
          "base_uri": "https://localhost:8080/"
        },
        "id": "IseSexERsgm8",
        "outputId": "242b3d4d-eb9e-4dcf-fe6f-ef9de341b113"
      },
      "outputs": [
        {
          "data": {
            "text/plain": [
              "<tf.Tensor: shape=(5, 1, 3, 2), dtype=int32, numpy=\n",
              "array([[[[0, 1],\n",
              "         [0, 0],\n",
              "         [0, 1]]],\n",
              "\n",
              "\n",
              "       [[[1, 1],\n",
              "         [0, 0],\n",
              "         [1, 1]]],\n",
              "\n",
              "\n",
              "       [[[1, 1],\n",
              "         [1, 1],\n",
              "         [1, 1]]],\n",
              "\n",
              "\n",
              "       [[[1, 0],\n",
              "         [1, 0],\n",
              "         [0, 0]]],\n",
              "\n",
              "\n",
              "       [[[1, 1],\n",
              "         [1, 1],\n",
              "         [0, 0]]]], dtype=int32)>"
            ]
          },
          "execution_count": 79,
          "metadata": {},
          "output_type": "execute_result"
        }
      ],
      "source": [
        "# Sample from this batch of distributions\n",
        "\n",
        "bernoulli_batch_2D.sample(5)"
      ]
    },
    {
      "cell_type": "code",
      "execution_count": 80,
      "metadata": {
        "colab": {
          "base_uri": "https://localhost:8080/"
        },
        "id": "MWZmvprYsgm9",
        "outputId": "9ddaa1de-5cfb-4c41-e27e-08c1633334d7"
      },
      "outputs": [
        {
          "data": {
            "text/plain": [
              "<tf.Tensor: shape=(1, 3, 2), dtype=float32, numpy=\n",
              "array([[[0.5 , 0.5 ],\n",
              "        [0.2 , 0.7 ],\n",
              "        [0.25, 0.75]]], dtype=float32)>"
            ]
          },
          "execution_count": 80,
          "metadata": {},
          "output_type": "execute_result"
        }
      ],
      "source": [
        "# Determine probabilities from this batch distribution\n",
        "\n",
        "bernoulli_batch_2D.prob([[[1, 0], \n",
        "                         [0, 0], \n",
        "                         [1, 1]]])"
      ]
    },
    {
      "cell_type": "markdown",
      "metadata": {
        "id": "zlvfIjF3sgm-"
      },
      "source": [
        "## 2. **Multivariate Distributions**\n"
      ]
    },
    {
      "cell_type": "markdown",
      "metadata": {
        "id": "94n2DK21sgm-"
      },
      "source": [
        "### 2.1 Basic multivariate distributions"
      ]
    },
    {
      "cell_type": "code",
      "execution_count": 81,
      "metadata": {
        "colab": {
          "base_uri": "https://localhost:8080/"
        },
        "id": "35RX_A3wsgm-",
        "outputId": "10f15084-845f-4d0d-8ddd-11e5c02e688f"
      },
      "outputs": [
        {
          "data": {
            "text/plain": [
              "<tfp.distributions.MultivariateNormalDiag 'MultivariateNormalDiag' batch_shape=[] event_shape=[2] dtype=float32>"
            ]
          },
          "execution_count": 81,
          "metadata": {},
          "output_type": "execute_result"
        }
      ],
      "source": [
        "# Define 2D multivariate Gaussian with diagonal covariance matrix\n",
        "\n",
        "normal_diag = tfd.MultivariateNormalDiag(loc=[0, 1], scale_diag=[1, 2])  # scale_diag=[1, 20]) we can change the shape by altering the mean and SD\n",
        "normal_diag"
      ]
    },
    {
      "cell_type": "code",
      "execution_count": 82,
      "metadata": {
        "colab": {
          "base_uri": "https://localhost:8080/"
        },
        "id": "zblklZq6sgnA",
        "outputId": "e2cad3b2-da52-4d67-d8e4-a0c1ca39ec38"
      },
      "outputs": [
        {
          "data": {
            "text/plain": [
              "<tf.Tensor: shape=(10, 2), dtype=float32, numpy=\n",
              "array([[-1.588346  ,  2.6131206 ],\n",
              "       [-0.2999747 , -0.12225258],\n",
              "       [-0.05375826,  2.6071696 ],\n",
              "       [ 0.48094264, -1.7809594 ],\n",
              "       [ 1.5665619 ,  2.143052  ],\n",
              "       [ 0.88378227,  2.041051  ],\n",
              "       [-0.6169611 ,  4.1485567 ],\n",
              "       [ 1.8390492 ,  2.7244444 ],\n",
              "       [-0.7466323 ,  1.8035475 ],\n",
              "       [ 1.2949302 ,  1.7941597 ]], dtype=float32)>"
            ]
          },
          "execution_count": 82,
          "metadata": {},
          "output_type": "execute_result"
        }
      ],
      "source": [
        "# Sample from it\n",
        "\n",
        "normal_diag.sample(10)"
      ]
    },
    {
      "cell_type": "code",
      "execution_count": 83,
      "metadata": {
        "colab": {
          "base_uri": "https://localhost:8080/",
          "height": 0
        },
        "id": "CJIxbKJDsgnB",
        "outputId": "81b48cb8-5c53-4410-e132-c5ddea6dcc52"
      },
      "outputs": [
        {
          "data": {
            "image/png": "[encoded data removed]",
            "text/plain": [
              "<Figure size 800x550 with 1 Axes>"
            ]
          },
          "metadata": {},
          "output_type": "display_data"
        }
      ],
      "source": [
        "# Make a plot\n",
        "\n",
        "plt_sample = normal_diag.sample(10000)\n",
        "plt.scatter(plt_sample[:, 0], plt_sample[:, 1], marker='.', alpha=0.05)\n",
        "plt.axis('equal')\n",
        "plt.show()"
      ]
    },
    {
      "cell_type": "markdown",
      "metadata": {
        "id": "Lga_t7q0sgnC"
      },
      "source": [
        "### 2.2 Batches of multivariate distributions"
      ]
    },
    {
      "cell_type": "code",
      "execution_count": 84,
      "metadata": {
        "colab": {
          "base_uri": "https://localhost:8080/"
        },
        "id": "jrz-S40GsgnC",
        "outputId": "abd02f21-363f-475e-8b8a-000f22ced3de"
      },
      "outputs": [
        {
          "data": {
            "text/plain": [
              "<tfp.distributions.MultivariateNormalDiag 'MultivariateNormalDiag' batch_shape=[3] event_shape=[2] dtype=float32>"
            ]
          },
          "execution_count": 84,
          "metadata": {},
          "output_type": "execute_result"
        }
      ],
      "source": [
        "# Create three \"batches\" of multivariate normals\n",
        "\n",
        "normal_diag_batch = tfd.MultivariateNormalDiag(loc=[[0, 0], [0, 0], [0, 0]],\n",
        "                                               scale_diag=[[1, 2], [2, 1], [2, 2]])\n",
        "normal_diag_batch"
      ]
    },
    {
      "cell_type": "code",
      "execution_count": 85,
      "metadata": {
        "colab": {
          "base_uri": "https://localhost:8080/"
        },
        "id": "3cuB8hfCsgnE",
        "outputId": "7357025b-5b4d-492a-9b65-80b9829aa690"
      },
      "outputs": [
        {
          "data": {
            "text/plain": [
              "<tf.Tensor: shape=(5, 3, 2), dtype=float32, numpy=\n",
              "array([[[ 0.99859   ,  1.5756832 ],\n",
              "        [ 0.662742  , -0.27534547],\n",
              "        [ 0.57187337, -1.9846029 ]],\n",
              "\n",
              "       [[ 0.2979308 ,  1.1563832 ],\n",
              "        [-0.5698211 , -0.4947985 ],\n",
              "        [-0.07057628, -3.043311  ]],\n",
              "\n",
              "       [[-1.1788069 , -3.3961847 ],\n",
              "        [-1.0331583 ,  1.2703197 ],\n",
              "        [ 0.7376702 , -2.1564586 ]],\n",
              "\n",
              "       [[ 0.14050497,  1.277927  ],\n",
              "        [ 1.8521194 , -0.11663292],\n",
              "        [ 1.1731373 , -0.3484918 ]],\n",
              "\n",
              "       [[-1.4645698 , -1.9902434 ],\n",
              "        [ 3.1401815 ,  1.3841541 ],\n",
              "        [ 0.9459144 , -1.2755493 ]]], dtype=float32)>"
            ]
          },
          "execution_count": 85,
          "metadata": {},
          "output_type": "execute_result"
        }
      ],
      "source": [
        "# Sample from it\n",
        "\n",
        "samples =normal_diag_batch.sample(5)\n",
        "samples"
      ]
    },
    {
      "cell_type": "code",
      "execution_count": 86,
      "metadata": {
        "colab": {
          "base_uri": "https://localhost:8080/"
        },
        "id": "_83n1afGsgnG",
        "outputId": "47ffe2b9-799f-416e-e815-bd0a2d778916"
      },
      "outputs": [
        {
          "data": {
            "text/plain": [
              "<tf.Tensor: shape=(5, 3), dtype=float32, numpy=\n",
              "array([[-3.3399625, -2.623835 , -3.7573824],\n",
              "       [-2.7425585, -2.694024 , -4.382512 ],\n",
              "       [-4.667576 , -3.4713073, -3.8734803],\n",
              "       [-2.7450323, -2.966619 , -3.4113836],\n",
              "       [-4.0986404, -4.721558 , -3.539394 ]], dtype=float32)>"
            ]
          },
          "execution_count": 86,
          "metadata": {},
          "output_type": "execute_result"
        }
      ],
      "source": [
        "# Compute log probs\n",
        "\n",
        "normal_diag_batch.log_prob(samples)"
      ]
    },
    {
      "cell_type": "code",
      "execution_count": 87,
      "metadata": {
        "colab": {
          "base_uri": "https://localhost:8080/"
        },
        "id": "cXTIHrK3sgnH",
        "outputId": "654b1cbf-c7e6-43f5-c431-b5b88daabe2f"
      },
      "outputs": [
        {
          "data": {
            "text/plain": [
              "TensorShape([10000, 3, 2])"
            ]
          },
          "execution_count": 87,
          "metadata": {},
          "output_type": "execute_result"
        }
      ],
      "source": [
        "# Create a sample for a plot -- notice the shape\n",
        "\n",
        "plt_sample_batch = normal_diag_batch.sample(10000)\n",
        "plt_sample_batch.shape"
      ]
    },
    {
      "cell_type": "code",
      "execution_count": 88,
      "metadata": {
        "colab": {
          "base_uri": "https://localhost:8080/",
          "height": 0
        },
        "id": "29ZCx-AEsgnJ",
        "outputId": "2f49e206-9b57-44b4-b400-15376f083330"
      },
      "outputs": [
        {
          "data": {
            "image/png": "[encoded data removed]",
            "text/plain": [
              "<Figure size 1000x300 with 3 Axes>"
            ]
          },
          "metadata": {},
          "output_type": "display_data"
        }
      ],
      "source": [
        "# Plot samples from the batched multivariate Gaussian\n",
        "\n",
        "fig, axs = (plt.subplots(1, 3, sharex=True, sharey=True, figsize=(10, 3)))\n",
        "titles = ['cov_diag=[1, 2]','cov_diag=[2, 1]', 'cov_diag=[2, 2]']\n",
        "\n",
        "for i, (ax, title) in enumerate(zip(axs,titles)):\n",
        "    samples = plt_sample_batch[:,i,:] #take the ith batch [samples x event_shape]\n",
        "    ax.scatter(samples[:, 0], samples[:, 1], marker='.', alpha=0.05)\n",
        "    ax.set_title(title)\n",
        "plt.show()"
      ]
    },
    {
      "cell_type": "markdown",
      "metadata": {
        "id": "v15LR-_WsgnL"
      },
      "source": [
        "## 3. **The Independent Distribution**"
      ]
    },
    {
      "cell_type": "code",
      "execution_count": 89,
      "metadata": {
        "id": "qqIvyoQisgnL"
      },
      "outputs": [],
      "source": [
        "# Start by defining a batch of two univariate Gaussians, then\n",
        "# combine them into a bivariate Gaussian with independent components\n",
        "\n",
        "locs = [-1., 1]\n",
        "scales = [0.5, 1.]\n",
        "batch_of_normals = tfd.Normal(loc=locs, scale=scales)"
      ]
    },
    {
      "cell_type": "code",
      "execution_count": 90,
      "metadata": {
        "colab": {
          "base_uri": "https://localhost:8080/",
          "height": 370
        },
        "id": "jaT90a68sgnM",
        "outputId": "51bbc491-90c6-4314-9cd5-bf8e0ca15f2d"
      },
      "outputs": [
        {
          "data": {
            "image/png": "[encoded data removed]",
            "text/plain": [
              "<Figure size 800x550 with 1 Axes>"
            ]
          },
          "metadata": {},
          "output_type": "display_data"
        }
      ],
      "source": [
        "# Univariate density functions\n",
        "import seaborn as sns\n",
        "\n",
        "t = np.linspace(-4, 4, 10000)\n",
        "densities = batch_of_normals.prob(np.repeat(t[:, np.newaxis], 2, axis=1)) # each column is a vector of densities for one distn\n",
        "\n",
        "# Fix: Use x= and y= named parameters in lineplot\n",
        "sns.lineplot(x=t, y=densities[:, 0], label='loc={}, scale={}'.format(locs[0], scales[0]))\n",
        "sns.lineplot(x=t, y=densities[:, 1], label='loc={}, scale={}'.format(locs[1], scales[1])) # Also fixed index for second plot\n",
        "plt.ylabel('Probability density')\n",
        "plt.xlabel('Value')\n",
        "plt.legend()\n",
        "plt.show()"
      ]
    },
    {
      "cell_type": "code",
      "execution_count": 91,
      "metadata": {
        "colab": {
          "base_uri": "https://localhost:8080/"
        },
        "id": "sb8KnB3TsgnP",
        "outputId": "8ae3892f-97d3-4af6-921f-5843f529f545"
      },
      "outputs": [
        {
          "data": {
            "text/plain": [
              "<tfp.distributions.Normal 'Normal' batch_shape=[2] event_shape=[] dtype=float32>"
            ]
          },
          "execution_count": 91,
          "metadata": {},
          "output_type": "execute_result"
        }
      ],
      "source": [
        "# Check their batch_shape and event_shape\n",
        "\n",
        "batch_of_normals"
      ]
    },
    {
      "cell_type": "code",
      "execution_count": 92,
      "metadata": {
        "id": "7CyvW3SqsgnQ"
      },
      "outputs": [],
      "source": [
        "# Use Independent to convert the batch shape to the event shape\n",
        "\n",
        "bivariate_normal_from_Independent = tfd.Independent(batch_of_normals,\n",
        "                                                    reinterpreted_batch_ndims=1)"
      ]
    },
    {
      "cell_type": "code",
      "execution_count": 93,
      "metadata": {
        "colab": {
          "base_uri": "https://localhost:8080/"
        },
        "id": "im8kLlywsgnS",
        "outputId": "4fe18039-5abe-4050-c097-dd3b7c6c7f54"
      },
      "outputs": [
        {
          "data": {
            "text/plain": [
              "<tfp.distributions.Independent 'IndependentNormal' batch_shape=[] event_shape=[2] dtype=float32>"
            ]
          },
          "execution_count": 93,
          "metadata": {},
          "output_type": "execute_result"
        }
      ],
      "source": [
        "# Note that dimension from batch_shape has shifted to event_shape\n",
        "\n",
        "bivariate_normal_from_Independent"
      ]
    },
    {
      "cell_type": "code",
      "execution_count": 94,
      "metadata": {
        "colab": {
          "base_uri": "https://localhost:8080/",
          "height": 514
        },
        "id": "qtfBXAUYsgnT",
        "outputId": "c86a7060-fe1b-4484-9a41-9984a8cad41a"
      },
      "outputs": [
        {
          "ename": "TypeError",
          "evalue": "jointplot() takes from 0 to 1 positional arguments but 2 positional arguments (and 5 keyword-only arguments) were given",
          "output_type": "error",
          "traceback": [
            "\u001b[31m---------------------------------------------------------------------------\u001b[39m",
            "\u001b[31mTypeError\u001b[39m                                 Traceback (most recent call last)",
            "\u001b[36mCell\u001b[39m\u001b[36m \u001b[39m\u001b[32mIn[94]\u001b[39m\u001b[32m, line 6\u001b[39m\n\u001b[32m      4\u001b[39m x1 = samples[:, \u001b[32m0\u001b[39m]\n\u001b[32m      5\u001b[39m x2 = samples[:, \u001b[32m1\u001b[39m]\n\u001b[32m----> \u001b[39m\u001b[32m6\u001b[39m \u001b[43msns\u001b[49m\u001b[43m.\u001b[49m\u001b[43mjointplot\u001b[49m\u001b[43m(\u001b[49m\u001b[43mx1\u001b[49m\u001b[43m,\u001b[49m\u001b[43m \u001b[49m\u001b[43mx2\u001b[49m\u001b[43m,\u001b[49m\u001b[43m \u001b[49m\u001b[43mkind\u001b[49m\u001b[43m=\u001b[49m\u001b[33;43m\"\u001b[39;49m\u001b[33;43mkde\u001b[39;49m\u001b[33;43m\"\u001b[39;49m\u001b[43m,\u001b[49m\u001b[43m \u001b[49m\u001b[43mspace\u001b[49m\u001b[43m=\u001b[49m\u001b[32;43m0\u001b[39;49m\u001b[43m,\u001b[49m\u001b[43m \u001b[49m\u001b[43mcolor\u001b[49m\u001b[43m=\u001b[49m\u001b[33;43m'\u001b[39;49m\u001b[33;43mb\u001b[39;49m\u001b[33;43m'\u001b[39;49m\u001b[43m,\u001b[49m\u001b[43m \u001b[49m\u001b[43mxlim\u001b[49m\u001b[43m=\u001b[49m\u001b[43m[\u001b[49m\u001b[43m-\u001b[49m\u001b[32;43m4\u001b[39;49m\u001b[43m,\u001b[49m\u001b[43m \u001b[49m\u001b[32;43m4\u001b[39;49m\u001b[43m]\u001b[49m\u001b[43m,\u001b[49m\u001b[43m \u001b[49m\u001b[43mylim\u001b[49m\u001b[43m=\u001b[49m\u001b[43m[\u001b[49m\u001b[43m-\u001b[49m\u001b[32;43m4\u001b[39;49m\u001b[43m,\u001b[49m\u001b[43m \u001b[49m\u001b[32;43m4\u001b[39;49m\u001b[43m]\u001b[49m\u001b[43m)\u001b[49m\n",
            "\u001b[31mTypeError\u001b[39m: jointplot() takes from 0 to 1 positional arguments but 2 positional arguments (and 5 keyword-only arguments) were given"
          ]
        }
      ],
      "source": [
        "# Create a plot showing joint density contours and marginal density functions\n",
        "\n",
        "samples = bivariate_normal_from_Independent.sample(10000)\n",
        "x1 = samples[:, 0]\n",
        "x2 = samples[:, 1]\n",
        "sns.jointplot(x1, x2, kind=\"kde\", space=0, color='b', xlim=[-4, 4], ylim=[-4, 4])"
      ]
    },
    {
      "cell_type": "code",
      "execution_count": null,
      "metadata": {
        "id": "sDDoW3nksgnU"
      },
      "outputs": [],
      "source": [
        "# Use MultivariateNormalDiag to create the equivalent distribution\n",
        "# Note that diagonal covariance matrix => no correlation => independence (for the multivariate normal distribution)\n",
        "\n",
        "bivariate_normal_from_Multivariate = tfd.MultivariateNormalDiag(loc=locs,\n",
        "                                                                scale_diag=scales)"
      ]
    },
    {
      "cell_type": "code",
      "execution_count": null,
      "metadata": {
        "colab": {
          "base_uri": "https://localhost:8080/",
          "height": 514
        },
        "id": "qZUJ1ftjsgnV",
        "outputId": "c1c282f9-32e2-4b4f-ae9d-e4f0f8947587"
      },
      "outputs": [
        {
          "name": "stderr",
          "output_type": "stream",
          "text": [
            "/usr/local/lib/python3.6/dist-packages/seaborn/_decorators.py:43: FutureWarning: Pass the following variables as keyword args: x, y. From version 0.12, the only valid positional argument will be `data`, and passing other arguments without an explicit keyword will result in an error or misinterpretation.\n",
            "  FutureWarning\n"
          ]
        },
        {
          "data": {
            "text/plain": [
              "<seaborn.axisgrid.JointGrid at 0x7fdf40627978>"
            ]
          },
          "execution_count": 36,
          "metadata": {
            "tags": []
          },
          "output_type": "execute_result"
        },
        {
          "data": {
            "image/png": "[encoded data removed]",
            "text/plain": [
              "<Figure size 432x432 with 3 Axes>"
            ]
          },
          "metadata": {
            "needs_background": "light",
            "tags": []
          },
          "output_type": "display_data"
        }
      ],
      "source": [
        "# Plot the joint density function of bivariate_normal_from_Independent\n",
        "# Refer back to bivariate_normal_from_Independent to show that the plot is the same\n",
        "# Summarise how Independent has been used\n",
        "\n",
        "samples = bivariate_normal_from_Multivariate.sample(10000)\n",
        "x1 = samples[:, 0]\n",
        "x2 = samples[:, 1]\n",
        "sns.jointplot(x1, x2, kind=\"kde\", space=0, color='b', xlim=[-4, 4], ylim=[-4, 4])"
      ]
    },
    {
      "cell_type": "markdown",
      "metadata": {
        "id": "c1V8udtysgnW"
      },
      "source": [
        "### 3.1 Shifting batch dimensions to event dimensions using `reinterpreted_batch_ndims`"
      ]
    },
    {
      "cell_type": "code",
      "execution_count": null,
      "metadata": {
        "id": "f-OWFMj4sgnW"
      },
      "outputs": [],
      "source": [
        "# Demonstrate use of reinterpreted_batch_ndims\n",
        "# By default all batch dims except the first are transferred to event dims\n",
        "\n",
        "loc_grid = [[-100., -100.],\n",
        "            [100., 100.],\n",
        "            [0., 0.]]\n",
        "scale_grid = [[1., 10.],\n",
        "              [1., 10.],\n",
        "              [1., 1.]]\n",
        "\n",
        "normals_batch_3by2_event_1 = tfd.Normal(loc=loc_grid, scale=scale_grid)"
      ]
    },
    {
      "cell_type": "code",
      "execution_count": null,
      "metadata": {
        "colab": {
          "base_uri": "https://localhost:8080/"
        },
        "id": "UXlQmUKFsgnX",
        "outputId": "74cd4730-7692-481c-9c11-27974aaae22a"
      },
      "outputs": [
        {
          "data": {
            "text/plain": [
              "<tfp.distributions.Normal 'Normal' batch_shape=[3, 2] event_shape=[] dtype=float32>"
            ]
          },
          "execution_count": 38,
          "metadata": {
            "tags": []
          },
          "output_type": "execute_result"
        }
      ],
      "source": [
        "# Highlight batch_shape\n",
        "\n",
        "normals_batch_3by2_event_1"
      ]
    },
    {
      "cell_type": "code",
      "execution_count": null,
      "metadata": {
        "colab": {
          "base_uri": "https://localhost:8080/"
        },
        "id": "oUEDQM7WsgnY",
        "outputId": "9859f8ac-bdeb-43d5-d392-e38482fea773"
      },
      "outputs": [
        {
          "data": {
            "text/plain": [
              "<tfp.distributions.Independent 'IndependentNormal' batch_shape=[3] event_shape=[2] dtype=float32>"
            ]
          },
          "execution_count": 39,
          "metadata": {
            "tags": []
          },
          "output_type": "execute_result"
        }
      ],
      "source": [
        "# We now have a batch of 3 bivariate normal distributions,\n",
        "# each parametrised by a column of our original parameter grid\n",
        "\n",
        "normals_batch_3_event_2 =tfd.Independent(normals_batch_3by2_event_1)\n",
        "normals_batch_3_event_2"
      ]
    },
    {
      "cell_type": "code",
      "execution_count": null,
      "metadata": {
        "colab": {
          "base_uri": "https://localhost:8080/"
        },
        "id": "lFITioyHsgnb",
        "outputId": "f7fe0767-2d4b-4fac-99b6-3e1e8e323d11"
      },
      "outputs": [
        {
          "data": {
            "text/plain": [
              "<tf.Tensor: shape=(3,), dtype=float32, numpy=array([-4.1146406e+03, -4.1404624e+00, -2.8378770e+00], dtype=float32)>"
            ]
          },
          "execution_count": 40,
          "metadata": {
            "tags": []
          },
          "output_type": "execute_result"
        }
      ],
      "source": [
        "# Evaluate log_prob\n",
        "\n",
        "normals_batch_3_event_2.log_prob(value=[[-10., 10,],\n",
        "                                        [100., 100],\n",
        "                                        [1., 1.]])"
      ]
    },
    {
      "cell_type": "code",
      "execution_count": null,
      "metadata": {
        "colab": {
          "base_uri": "https://localhost:8080/"
        },
        "id": "C_xWA4Bfsgnd",
        "outputId": "e6085c84-f33d-4502-a010-089c9725248c"
      },
      "outputs": [
        {
          "data": {
            "text/plain": [
              "<tfp.distributions.Independent 'IndependentNormal' batch_shape=[] event_shape=[3, 2] dtype=float32>"
            ]
          },
          "execution_count": 41,
          "metadata": {
            "tags": []
          },
          "output_type": "execute_result"
        }
      ],
      "source": [
        "# Can reinterpret _all_ batch dimensions as event dimensions\n",
        "\n",
        "normals_batch_1_event_3by2 = tfd.Independent(normals_batch_3by2_event_1,\n",
        "                                             reinterpreted_batch_ndims=2)\n",
        "normals_batch_1_event_3by2"
      ]
    },
    {
      "cell_type": "code",
      "execution_count": null,
      "metadata": {
        "colab": {
          "base_uri": "https://localhost:8080/"
        },
        "id": "s6K5yss3sgne",
        "outputId": "c66fa8ac-f900-45e9-d1a1-ffa903d208b0"
      },
      "outputs": [
        {
          "data": {
            "text/plain": [
              "<tf.Tensor: shape=(), dtype=float32, numpy=-4121.619>"
            ]
          },
          "execution_count": 42,
          "metadata": {
            "tags": []
          },
          "output_type": "execute_result"
        }
      ],
      "source": [
        "# Take log_probs \n",
        "\n",
        "normals_batch_1_event_3by2.log_prob(value=[[-10., 10,],\n",
        "                                           [100., 100],\n",
        "                                           [1., 1.]])"
      ]
    },
    {
      "cell_type": "markdown",
      "metadata": {
        "id": "D3rFgnVisgn0"
      },
      "source": [
        "## 4. **Sampling and log probs**"
      ]
    },
    {
      "cell_type": "code",
      "execution_count": null,
      "metadata": {
        "colab": {
          "base_uri": "https://localhost:8080/"
        },
        "id": "KlOt3_6wsgn0",
        "outputId": "a8b7f400-71e6-49bb-fb26-64a76c0b998a"
      },
      "outputs": [
        {
          "data": {
            "text/plain": [
              "<tfp.distributions.MultivariateNormalDiag 'MultivariateNormalDiag' batch_shape=[3] event_shape=[2] dtype=float32>"
            ]
          },
          "execution_count": 62,
          "metadata": {
            "tags": []
          },
          "output_type": "execute_result"
        }
      ],
      "source": [
        "# Make Multivariate Distribution\n",
        "\n",
        "normal_distributions = tfd.MultivariateNormalDiag(loc=[[0.5, 1], [0.1, 0], [0, 0.2]],\n",
        "                                 scale_diag=[[2, 3], [1, 3], [4, 4]])\n",
        "normal_distributions"
      ]
    },
    {
      "cell_type": "code",
      "execution_count": null,
      "metadata": {
        "colab": {
          "base_uri": "https://localhost:8080/"
        },
        "id": "ehfUugwBsgn2",
        "outputId": "99b63d98-cf2a-49e5-c735-c9acde664ba4"
      },
      "outputs": [
        {
          "data": {
            "text/plain": [
              "<tf.Tensor: shape=(5, 3, 2), dtype=float32, numpy=\n",
              "array([[[-0.61642456, -2.6508875 ],\n",
              "        [-0.02484179, -0.58626443],\n",
              "        [-2.3840659 , -2.2478259 ]],\n",
              "\n",
              "       [[-1.3702699 ,  9.627965  ],\n",
              "        [ 0.34466887, -2.335009  ],\n",
              "        [-0.6538167 ,  5.7416673 ]],\n",
              "\n",
              "       [[-2.086178  ,  4.7825446 ],\n",
              "        [ 1.154147  , -4.501431  ],\n",
              "        [-4.3120627 ,  0.32013714]],\n",
              "\n",
              "       [[-2.5057547 ,  2.4638143 ],\n",
              "        [-0.11568717, -5.0724864 ],\n",
              "        [ 0.63433516, -0.52497053]],\n",
              "\n",
              "       [[ 1.380878  ,  1.7464799 ],\n",
              "        [ 0.11383934,  1.1534938 ],\n",
              "        [-0.91430813,  2.0012252 ]]], dtype=float32)>"
            ]
          },
          "execution_count": 63,
          "metadata": {
            "tags": []
          },
          "output_type": "execute_result"
        }
      ],
      "source": [
        "# Sample\n",
        "\n",
        "normal_distributions.sample(5)"
      ]
    },
    {
      "cell_type": "code",
      "execution_count": null,
      "metadata": {
        "colab": {
          "base_uri": "https://localhost:8080/"
        },
        "id": "w80M9ksdsgn3",
        "outputId": "0c5a27ba-fded-41ad-9305-ef9332ba1ed1"
      },
      "outputs": [
        {
          "data": {
            "text/plain": [
              "<tfp.distributions.MultivariateNormalDiag 'MultivariateNormalDiag' batch_shape=[2, 2] event_shape=[3] dtype=float32>"
            ]
          },
          "execution_count": 64,
          "metadata": {
            "tags": []
          },
          "output_type": "execute_result"
        }
      ],
      "source": [
        "# Multivariate Normal batched Distribution\n",
        "# We are broadcasting batch shapes of `loc` and `scal_diag` \n",
        "# against each other\n",
        "\n",
        "loc = [[[0.3, 1.5, 1.], [0.2, 0.4, 2.8]],\n",
        "        [[2., 2.3, 8], [1.4, 1, 1.3]]]\n",
        "scale_diag = [0.4, 1., 0.7]\n",
        "normal_distributions = tfd.MultivariateNormalDiag(loc=loc, scale_diag=scale_diag)\n",
        "normal_distributions"
      ]
    },
    {
      "cell_type": "code",
      "execution_count": null,
      "metadata": {
        "colab": {
          "base_uri": "https://localhost:8080/"
        },
        "id": "Y9uZwTbjsgn4",
        "outputId": "b5208a2b-2a35-4c79-d50c-0bf6aaa60ff1"
      },
      "outputs": [
        {
          "data": {
            "text/plain": [
              "<tfp.distributions.Independent 'IndependentMultivariateNormalDiag' batch_shape=[2] event_shape=[2, 3] dtype=float32>"
            ]
          },
          "execution_count": 65,
          "metadata": {
            "tags": []
          },
          "output_type": "execute_result"
        }
      ],
      "source": [
        "# Use independent to move part of the batch shape\n",
        "\n",
        "ind_normal_distributions = tfd.Independent(normal_distributions,\n",
        "                                           reinterpreted_batch_ndims=1)\n",
        "ind_normal_distributions"
      ]
    },
    {
      "cell_type": "code",
      "execution_count": null,
      "metadata": {
        "colab": {
          "base_uri": "https://localhost:8080/"
        },
        "id": "HVM4lq7Tsgn4",
        "outputId": "03c3e3cf-41d8-4277-dfef-567e3dd4e9ed"
      },
      "outputs": [
        {
          "data": {
            "text/plain": [
              "TensorShape([5, 2, 2, 3])"
            ]
          },
          "execution_count": 66,
          "metadata": {
            "tags": []
          },
          "output_type": "execute_result"
        }
      ],
      "source": [
        "# Draw some samples\n",
        "\n",
        "samples = ind_normal_distributions.sample(5)\n",
        "samples.shape"
      ]
    },
    {
      "cell_type": "code",
      "execution_count": null,
      "metadata": {
        "colab": {
          "base_uri": "https://localhost:8080/"
        },
        "id": "XMv3kGNksgn5",
        "outputId": "185a2c25-bc55-43ef-edbc-f6d3b7bdff48"
      },
      "outputs": [
        {
          "data": {
            "text/plain": [
              "<tf.Tensor: shape=(2,), dtype=float32, numpy=array([-11.756409, -66.098785], dtype=float32)>"
            ]
          },
          "execution_count": 67,
          "metadata": {
            "tags": []
          },
          "output_type": "execute_result"
        }
      ],
      "source": [
        "# `[B, E]` shaped input\n",
        "\n",
        "inp = tf.random.uniform((2, 2, 3))\n",
        "ind_normal_distributions.log_prob(inp)"
      ]
    },
    {
      "cell_type": "code",
      "execution_count": null,
      "metadata": {
        "colab": {
          "base_uri": "https://localhost:8080/"
        },
        "id": "2t0x9cLSsgn6",
        "outputId": "73f1f959-ab6a-40fb-d1e6-131e9aed4148"
      },
      "outputs": [
        {
          "data": {
            "text/plain": [
              "<tf.Tensor: shape=(2,), dtype=float32, numpy=array([-11.850761, -76.12896 ], dtype=float32)>"
            ]
          },
          "execution_count": 68,
          "metadata": {
            "tags": []
          },
          "output_type": "execute_result"
        }
      ],
      "source": [
        "# `[E]` shaped input (broadcasting over batch size)\n",
        "\n",
        "inp = tf.random.uniform((2, 3))\n",
        "ind_normal_distributions.log_prob(inp)"
      ]
    },
    {
      "cell_type": "code",
      "execution_count": null,
      "metadata": {
        "colab": {
          "base_uri": "https://localhost:8080/"
        },
        "id": "-cxhum6xsgn7",
        "outputId": "6868e4a9-180b-443a-83b9-049f5123fb60"
      },
      "outputs": [
        {
          "data": {
            "text/plain": [
              "<tf.Tensor: shape=(9, 2), dtype=float32, numpy=\n",
              "array([[ -8.763502 , -74.403946 ],\n",
              "       [ -8.963752 , -78.71576  ],\n",
              "       [-10.053402 , -67.10482  ],\n",
              "       [-10.113637 , -70.84384  ],\n",
              "       [ -8.458472 , -77.99654  ],\n",
              "       [-13.988488 , -74.964966 ],\n",
              "       [ -7.66702  , -65.602325 ],\n",
              "       [-10.51793  , -65.675446 ],\n",
              "       [-11.9138565, -72.61048  ]], dtype=float32)>"
            ]
          },
          "execution_count": 69,
          "metadata": {
            "tags": []
          },
          "output_type": "execute_result"
        }
      ],
      "source": [
        "#`[S, B, E]` shaped input (broadcasting over samples)\n",
        "\n",
        "inp = tf.random.uniform((9, 2, 2, 3))\n",
        "ind_normal_distributions.log_prob(inp)"
      ]
    },
    {
      "cell_type": "code",
      "execution_count": null,
      "metadata": {
        "colab": {
          "base_uri": "https://localhost:8080/"
        },
        "id": "6uIkjUpMsgn8",
        "outputId": "d3a9d701-8e9c-4ea7-b733-8e7522167409"
      },
      "outputs": [
        {
          "data": {
            "text/plain": [
              "<tf.Tensor: shape=(5, 2), dtype=float32, numpy=\n",
              "array([[ -9.843089 , -61.68399  ],\n",
              "       [-10.387953 , -61.109745 ],\n",
              "       [ -9.2092285, -71.7383   ],\n",
              "       [-12.003781 , -83.812454 ],\n",
              "       [ -9.123208 , -68.52439  ]], dtype=float32)>"
            ]
          },
          "execution_count": 70,
          "metadata": {
            "tags": []
          },
          "output_type": "execute_result"
        }
      ],
      "source": [
        "# `[S, b, e]` shaped input, where [b, e] is broadcastable over [B, E]\n",
        "\n",
        "inp = tf.random.uniform((5, 1, 2, 1))\n",
        "ind_normal_distributions.log_prob(inp)"
      ]
    },
    {
      "cell_type": "markdown",
      "metadata": {
        "id": "ycDlIEiGsgoM"
      },
      "source": [
        "## 5. **Trainable Distributions**"
      ]
    },
    {
      "cell_type": "code",
      "execution_count": null,
      "metadata": {
        "id": "LD0A3yan6e3L"
      },
      "outputs": [],
      "source": [
        "from sklearn.datasets import fetch_20newsgroups\n",
        "from sklearn.feature_extraction.text import CountVectorizer\n",
        "from sklearn.naive_bayes import BernoulliNB\n",
        "from sklearn.metrics import f1_score"
      ]
    },
    {
      "cell_type": "code",
      "execution_count": null,
      "metadata": {
        "id": "Vqb5nOE8sgoN"
      },
      "outputs": [],
      "source": [
        "# Define an exponential distribution\n",
        "\n",
        "exponential = tfd.Exponential(rate=0.3, name='exp')"
      ]
    },
    {
      "cell_type": "code",
      "execution_count": null,
      "metadata": {
        "colab": {
          "base_uri": "https://localhost:8080/",
          "height": 265
        },
        "id": "J117CKjnsgoO",
        "outputId": "b0002368-fd42-4ad2-97e7-595ee96c6607"
      },
      "outputs": [
        {
          "data": {
            "image/png": "[encoded data removed]",
            "text/plain": [
              "<Figure size 432x288 with 1 Axes>"
            ]
          },
          "metadata": {
            "needs_background": "light",
            "tags": []
          },
          "output_type": "display_data"
        }
      ],
      "source": [
        "# Plot\n",
        "\n",
        "plt.hist(exponential.sample(5000), bins=100, density=True)\n",
        "plt.show()"
      ]
    },
    {
      "cell_type": "code",
      "execution_count": null,
      "metadata": {
        "colab": {
          "base_uri": "https://localhost:8080/"
        },
        "id": "v0OfEcDisgoP",
        "outputId": "17ffac6d-7a87-40b1-a666-1fb2d8e13ef3"
      },
      "outputs": [
        {
          "data": {
            "text/plain": [
              "(<tf.Variable 'rate:0' shape=() dtype=float32, numpy=1.0>,)"
            ]
          },
          "execution_count": 89,
          "metadata": {
            "tags": []
          },
          "output_type": "execute_result"
        }
      ],
      "source": [
        "# Define an exponential distribution with a trainable rate parameter\n",
        "\n",
        "exp_train = tfd.Exponential(rate=tf.Variable(1., name='rate'), name='exp_train')\n",
        "exp_train.trainable_variables"
      ]
    },
    {
      "cell_type": "code",
      "execution_count": null,
      "metadata": {
        "id": "uKCuuoT8sgoQ"
      },
      "outputs": [],
      "source": [
        "# Define the negative log likelihood\n",
        "\n",
        "def nll(x_train, distribution):\n",
        "    return -tf.reduce_mean(distribution.log_prob(x_train))\n"
      ]
    },
    {
      "cell_type": "code",
      "execution_count": null,
      "metadata": {
        "id": "_IVhv4HjsgoR"
      },
      "outputs": [],
      "source": [
        "# Define a function to compute the loss and gradients\n",
        "\n",
        "@tf.function\n",
        "def get_loss_and_grads(x_train, distribution):\n",
        "    with tf.GradientTape() as tape:\n",
        "        tape.watch(distribution.trainable_variables)\n",
        "        loss = nll(x_train, distribution)\n",
        "    grads = tape.gradient(loss, distribution.trainable_variables)\n",
        "    return loss, grads"
      ]
    },
    {
      "cell_type": "code",
      "execution_count": null,
      "metadata": {
        "id": "z4n7PHwTsgoS"
      },
      "outputs": [],
      "source": [
        "# Optimize\n",
        "\n",
        "def exponential_dist_optimisation(data, distribution):\n",
        "\n",
        "    # Keep results for plotting\n",
        "    train_loss_results = []\n",
        "    train_rate_results = []\n",
        "    \n",
        "    optimizer = tf.keras.optimizers.SGD(learning_rate=0.05)\n",
        "\n",
        "    num_steps = 10\n",
        "\n",
        "    for i in range(num_steps):\n",
        "        loss, grads = get_loss_and_grads(data, distribution)\n",
        "        optimizer.apply_gradients(zip(grads, distribution.trainable_variables))\n",
        "\n",
        "        rate_value = distribution.rate.value()\n",
        "        train_loss_results.append(loss)\n",
        "        train_rate_results.append(rate_value)\n",
        "        print(\"Step {:03d}: Loss: {:.3f}: Rate: {:.3f}\".format(i, loss, rate_value))\n",
        "        \n",
        "    return train_loss_results, train_rate_results"
      ]
    },
    {
      "cell_type": "code",
      "execution_count": null,
      "metadata": {
        "colab": {
          "base_uri": "https://localhost:8080/"
        },
        "id": "cotOTqvysgoT",
        "outputId": "205c452b-9599-4afc-dff7-9371b776dc96"
      },
      "outputs": [
        {
          "name": "stdout",
          "output_type": "stream",
          "text": [
            "Step 000: Loss: 3.392: Rate: 0.880\n",
            "Step 001: Loss: 3.114: Rate: 0.768\n",
            "Step 002: Loss: 2.868: Rate: 0.663\n",
            "Step 003: Loss: 2.660: Rate: 0.569\n",
            "Step 004: Loss: 2.494: Rate: 0.487\n",
            "Step 005: Loss: 2.372: Rate: 0.420\n",
            "Step 006: Loss: 2.292: Rate: 0.370\n",
            "Step 007: Loss: 2.249: Rate: 0.335\n",
            "Step 008: Loss: 2.230: Rate: 0.315\n",
            "Step 009: Loss: 2.224: Rate: 0.304\n"
          ]
        }
      ],
      "source": [
        "# Get some data and train\n",
        "\n",
        "sampled_data = exponential.sample(5000)\n",
        "train_loss_results, train_rate_results = exponential_dist_optimisation(data=sampled_data, distribution=exp_train)"
      ]
    },
    {
      "cell_type": "code",
      "execution_count": null,
      "metadata": {
        "colab": {
          "base_uri": "https://localhost:8080/"
        },
        "id": "ZqWmf0xAsgoU",
        "outputId": "598eed3d-dceb-4efc-d762-961578dcb731"
      },
      "outputs": [
        {
          "name": "stdout",
          "output_type": "stream",
          "text": [
            "Exact rate:  0.3\n",
            "Pred rate:   0.30404457\n"
          ]
        }
      ],
      "source": [
        "# Predicted value for the rate parameter\n",
        "\n",
        "pred_value = exp_train.rate.numpy()\n",
        "exact_value = exponential.rate.numpy()\n",
        "\n",
        "print(\"Exact rate: \", exact_value)\n",
        "print(\"Pred rate:  \", pred_value)"
      ]
    },
    {
      "cell_type": "code",
      "execution_count": null,
      "metadata": {
        "colab": {
          "base_uri": "https://localhost:8080/",
          "height": 557
        },
        "id": "9GTcRseZsgoV",
        "outputId": "8e421984-345d-4ee2-f233-c7baf9d8f55b"
      },
      "outputs": [
        {
          "data": {
            "image/png": "[encoded data removed]",
            "text/plain": [
              "<Figure size 864x576 with 2 Axes>"
            ]
          },
          "metadata": {
            "needs_background": "light",
            "tags": []
          },
          "output_type": "display_data"
        }
      ],
      "source": [
        "# Plot to see the convergence of the estimated and true parameters\n",
        "\n",
        "tensor_exact_value = tf.constant(exact_value, shape=[len(train_rate_results)])\n",
        "\n",
        "fig, axes = plt.subplots(2, sharex=True, figsize=(12, 8))\n",
        "fig.suptitle('Convergence')\n",
        "\n",
        "axes[0].set_ylabel(\"Loss\", fontsize=14)\n",
        "axes[0].plot(train_loss_results)\n",
        "\n",
        "axes[1].set_ylabel(\"Rate\", fontsize=14)\n",
        "axes[1].set_xlabel(\"Epoch\", fontsize=14)\n",
        "axes[1].plot(train_rate_results, label='trainable rate variable')\n",
        "axes[1].plot(tensor_exact_value, label='exact rate')\n",
        "axes[1].legend()\n",
        "plt.show()"
      ]
    },
    {
      "cell_type": "code",
      "execution_count": null,
      "metadata": {
        "id": "a6BPCYP0sgoW"
      },
      "outputs": [],
      "source": [
        "# Making a function get_data which:\n",
        "#   1) Fetches the 20 newsgroup dataset\n",
        "#   2) Performs a word count on the articles and binarizes the result\n",
        "#   3) Returns the data as a numpy matrix with the labels\n",
        "\n",
        "def get_data(categories):\n",
        "\n",
        "    newsgroups_train_data = fetch_20newsgroups(data_home='/content/20_Newsgroup_Data',\n",
        "                                               subset='train', categories=categories)\n",
        "    newsgroups_test_data = fetch_20newsgroups(data_home='/content/20_Newsgroup_Data',\n",
        "                                              subset='test', categories=categories)\n",
        "\n",
        "    n_documents = len(newsgroups_test_data['data'])\n",
        "    count_vectorizer = CountVectorizer(input='content', binary=True,max_df=0.25, min_df=1.01/n_documents) \n",
        "    train_binary_bag_of_words = count_vectorizer.fit_transform(newsgroups_train_data['data']) \n",
        "    test_binary_bag_of_words = count_vectorizer.transform(newsgroups_test_data['data']) \n",
        "\n",
        "    return (train_binary_bag_of_words.todense(), newsgroups_train_data['target']),  (test_binary_bag_of_words.todense(), newsgroups_test_data['target'])\n"
      ]
    },
    {
      "cell_type": "code",
      "execution_count": null,
      "metadata": {
        "id": "vuPOJhMSsgoX"
      },
      "outputs": [],
      "source": [
        "# Defining a function to conduct laplace smoothing. This adds a base level of probability for a given feature\n",
        "# to occur in every class.\n",
        "\n",
        "def laplace_smoothing(labels, binary_data, n_classes):\n",
        "    # Compute the parameter estimates (adjusted fraction of documents in class that contain word)\n",
        "    n_words = binary_data.shape[1]\n",
        "    alpha = 1 # parameters for Laplace smoothing\n",
        "    theta = np.zeros([n_classes, n_words]) # stores parameter values - prob. word given class\n",
        "    for c_k in range(n_classes): # 0, 1, ..., 19\n",
        "        class_mask = (labels == c_k)\n",
        "        N = class_mask.sum() # number of articles in class\n",
        "        theta[c_k, :] = (binary_data[class_mask, :].sum(axis=0) + alpha)/(N + alpha*2)\n",
        "\n",
        "    return theta"
      ]
    },
    {
      "cell_type": "code",
      "execution_count": null,
      "metadata": {
        "id": "JgS2YLkRsgoY"
      },
      "outputs": [],
      "source": [
        "# Now we will do a function that given the feature occurence counts returns a Bernoulli distribution of \n",
        "# batch_shape=number of classes and event_shape=number of features.\n",
        "\n",
        "def make_distributions(probs):\n",
        "    batch_of_bernoullis = tfd.Bernoulli(probs=probs) # shape (n_classes, n_words)\n",
        "    dist = tfd.Independent(batch_of_bernoullis, reinterpreted_batch_ndims=1)\n",
        "    return dist"
      ]
    },
    {
      "cell_type": "code",
      "execution_count": null,
      "metadata": {
        "id": "RFjiXwYLsgoZ"
      },
      "outputs": [],
      "source": [
        "# Function which computes the prior probability of every class based on frequency of occurence in \n",
        "# the dataset\n",
        "\n",
        "def class_priors(n_classes, labels):\n",
        "    counts = np.zeros(n_classes)\n",
        "    for c_k in range(n_classes):\n",
        "        counts[c_k] = np.sum(np.where(labels==c_k, 1, 0))\n",
        "    priors = counts / np.sum(counts)\n",
        "    print('The class priors are {}'.format(priors))\n",
        "    return priors"
      ]
    },
    {
      "cell_type": "code",
      "execution_count": null,
      "metadata": {
        "id": "lAFUAq9fsgoa"
      },
      "outputs": [],
      "source": [
        "# The final function predict_sample which given the distribution, a test sample, and the class priors:\n",
        "#   1) Computes the class conditional probabilities given the sample\n",
        "#   2) Forms the joint likelihood\n",
        "#   3) Normalises the joint likelihood and returns the log prob\n",
        "\n",
        "def predict_sample(dist, sample, priors):\n",
        "    cond_probs = dist.log_prob(sample)\n",
        "    joint_likelihood = tf.add(np.log(priors), cond_probs)\n",
        "    norm_factor = tf.math.reduce_logsumexp(joint_likelihood, axis=-1, keepdims=True)\n",
        "    log_prob = joint_likelihood - norm_factor\n",
        "\n",
        "    return log_prob"
      ]
    },
    {
      "cell_type": "code",
      "execution_count": null,
      "metadata": {
        "id": "wHn68l5isgob"
      },
      "outputs": [],
      "source": [
        "# Now we learn the distribution using gradient tape\n",
        "\n",
        "def make_distribution_withGT(data, labels, nb_classes):\n",
        "\n",
        "    class_data = []\n",
        "    train_vars = []\n",
        "    distributions = []\n",
        "    for c in range(nb_classes):\n",
        "        train_vars.append(tf.Variable(initial_value=np.random.uniform(low=0.01, high =0.1, size=data.shape[-1])))\n",
        "        distributions.append(tfd.Bernoulli(probs=train_vars[c]))\n",
        "        class_mask = (labels == c)\n",
        "        class_data.append(data[class_mask, :])\n",
        "\n",
        "    for c_num in range(0,nb_classes):\n",
        "        optimizer = tf.keras.optimizers.Adam()\n",
        "        print('\\n%-------------------%')\n",
        "        print('Class ', c_num)\n",
        "        print('%-------------------%')\n",
        "\n",
        "        for i in range(0,100):\n",
        "            loss, grads = get_loss_and_grads(class_data[c_num], distributions[c_num])\n",
        "            if(i%10==0):\n",
        "                print('iter: {} loss: {}'.format(i, loss))\n",
        "            optimizer.apply_gradients(zip(grads, distributions[c_num].trainable_variables))\n",
        "            eta = 1e-3\n",
        "            clipped_probs = tf.clip_by_value(distributions[c_num].trainable_variables,\n",
        "                                             clip_value_min=eta, clip_value_max=1)\n",
        "            train_vars[c_num] = tf.squeeze(clipped_probs)\n",
        "            \n",
        "\n",
        "    dist = tfd.Bernoulli(probs=train_vars)\n",
        "    dist = tfd.Independent(dist,reinterpreted_batch_ndims=1)\n",
        "\n",
        "    print(dist)\n",
        "\n",
        "    return dist\n"
      ]
    },
    {
      "cell_type": "code",
      "execution_count": null,
      "metadata": {
        "colab": {
          "base_uri": "https://localhost:8080/"
        },
        "id": "KMjiHt37sgoc",
        "outputId": "0a049f22-b173-442c-c712-e160cfa73337"
      },
      "outputs": [
        {
          "name": "stdout",
          "output_type": "stream",
          "text": [
            "The class priors are [0.2359882  0.28711898 0.29154376 0.18534907]\n"
          ]
        }
      ],
      "source": [
        "# Make the same Naive Bayes classifier we did last tutorial\n",
        "\n",
        "categories = ['alt.atheism', 'talk.religion.misc', 'comp.graphics', 'sci.space']\n",
        "\n",
        "(train_data, train_labels), (test_data, test_labels) = get_data(categories)\n",
        "\n",
        "smoothed_counts = laplace_smoothing(labels=train_labels, binary_data=train_data, n_classes=len(categories))\n",
        "\n",
        "priors = class_priors(n_classes=len(categories), labels=train_labels)\n",
        "tf_dist = make_distributions(smoothed_counts)"
      ]
    },
    {
      "cell_type": "code",
      "execution_count": null,
      "metadata": {
        "colab": {
          "base_uri": "https://localhost:8080/"
        },
        "id": "y3VKgbtusgoc",
        "outputId": "2f350545-7682-4a55-eb1d-7938a6f5bb5b"
      },
      "outputs": [
        {
          "name": "stdout",
          "output_type": "stream",
          "text": [
            "\n",
            "%-------------------%\n",
            "Class  0\n",
            "%-------------------%\n",
            "iter: 0 loss: 0.07832579152423366\n",
            "iter: 10 loss: 0.06894347305528033\n",
            "iter: 20 loss: 0.060222996342706836\n",
            "iter: 30 loss: 0.05218120592196705\n",
            "iter: 40 loss: 0.044759031548345145\n",
            "iter: 50 loss: 0.0379018550873754\n",
            "iter: 60 loss: 0.03155126632645766\n",
            "iter: 70 loss: 0.02566911732741816\n",
            "iter: 80 loss: 0.020219924339709733\n",
            "iter: 90 loss: 0.0151572347232354\n",
            "\n",
            "%-------------------%\n",
            "Class  1\n",
            "%-------------------%\n",
            "iter: 0 loss: 0.07127955241503989\n",
            "iter: 10 loss: 0.061937990769672026\n",
            "iter: 20 loss: 0.05314094638202285\n",
            "iter: 30 loss: 0.0449779596289782\n",
            "iter: 40 loss: 0.03741778676096856\n",
            "iter: 50 loss: 0.030434644494345044\n",
            "iter: 60 loss: 0.023988602031351454\n",
            "iter: 70 loss: 0.018051947992478605\n",
            "iter: 80 loss: 0.012572028391125102\n",
            "iter: 90 loss: 0.007491437417768517\n",
            "\n",
            "%-------------------%\n",
            "Class  2\n",
            "%-------------------%\n",
            "iter: 0 loss: 0.0783904388365927\n",
            "iter: 10 loss: 0.06930189904430697\n",
            "iter: 20 loss: 0.06093254284122168\n",
            "iter: 30 loss: 0.05331069276547315\n",
            "iter: 40 loss: 0.046385938043994546\n",
            "iter: 50 loss: 0.04010591759581585\n",
            "iter: 60 loss: 0.034424281431691794\n",
            "iter: 70 loss: 0.029294317941405135\n",
            "iter: 80 loss: 0.02468416229071224\n",
            "iter: 90 loss: 0.020540241993693545\n",
            "\n",
            "%-------------------%\n",
            "Class  3\n",
            "%-------------------%\n",
            "iter: 0 loss: 0.07977267831453962\n",
            "iter: 10 loss: 0.07055890466877092\n",
            "iter: 20 loss: 0.06195969379331623\n",
            "iter: 30 loss: 0.053983481205388956\n",
            "iter: 40 loss: 0.046590926230770005\n",
            "iter: 50 loss: 0.03974021274615738\n",
            "iter: 60 loss: 0.03339246720568644\n",
            "iter: 70 loss: 0.027505496412316137\n",
            "iter: 80 loss: 0.0220337258491106\n",
            "iter: 90 loss: 0.016923285417091996\n",
            "tfp.distributions.Independent(\"IndependentBernoulli\", batch_shape=[4], event_shape=[17495], dtype=int32)\n"
          ]
        }
      ],
      "source": [
        "# Now train the distributions with gradient tape\n",
        "\n",
        "GT_dist = make_distribution_withGT(data=train_data, labels=train_labels, nb_classes=4)"
      ]
    },
    {
      "cell_type": "code",
      "execution_count": null,
      "metadata": {
        "colab": {
          "base_uri": "https://localhost:8080/"
        },
        "id": "EDliliYSsgod",
        "outputId": "98b38240-56ed-4396-d18a-31a35f1a8b34"
      },
      "outputs": [
        {
          "name": "stdout",
          "output_type": "stream",
          "text": [
            "f1  0.8279055960457952\n",
            "f1  0.7848499112849504\n"
          ]
        }
      ],
      "source": [
        "# Compare the two results\n",
        "\n",
        "for dist in [GT_dist,tf_dist]:\n",
        "    probabilities = []\n",
        "    for sample, label in zip(test_data, test_labels):\n",
        "        probabilities.append(predict_sample(dist, sample, priors))\n",
        "\n",
        "    probabilities = np.asarray(probabilities)\n",
        "    predicted_classes = np.argmax(probabilities, axis =-1)\n",
        "    print('f1 ', f1_score(test_labels, predicted_classes, average='macro'))"
      ]
    }
  ],
  "metadata": {
    "colab": {
      "collapsed_sections": [
        "Jj29CUq6sgme",
        "zlvfIjF3sgm-",
        "_7tvenxCsgnf"
      ],
      "include_colab_link": true,
      "name": "01_[Exercises]The TensorFlow Probability library .ipynb",
      "provenance": [],
      "toc_visible": true
    },
    "kernelspec": {
      "display_name": "Probabilistic-Deep-Learning-with-TensorFlow",
      "language": "python",
      "name": "python3"
    },
    "language_info": {
      "codemirror_mode": {
        "name": "ipython",
        "version": 3
      },
      "file_extension": ".py",
      "mimetype": "text/x-python",
      "name": "python",
      "nbconvert_exporter": "python",
      "pygments_lexer": "ipython3",
      "version": "3.13.5"
    }
  },
  "nbformat": 4,
  "nbformat_minor": 0
}
